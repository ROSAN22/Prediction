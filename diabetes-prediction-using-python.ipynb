{
 "cells": [
  {
   "cell_type": "markdown",
   "id": "1bae3b83",
   "metadata": {
    "papermill": {
     "duration": 0.059794,
     "end_time": "2021-11-30T05:15:11.380525",
     "exception": false,
     "start_time": "2021-11-30T05:15:11.320731",
     "status": "completed"
    },
    "tags": []
   },
   "source": [
    "# Diabetes Prediction using Python + Pandas\n",
    "Diabetes is a chronic (long-lasting) health condition that affects how your body turns food into energy. Most of the food you eat is broken down into sugar (also called glucose) and released into your bloodstream. When your blood sugar goes up, it signals your pancreas to release insulin.\n"
   ]
  },
  {
   "cell_type": "markdown",
   "id": "d78d2f2a",
   "metadata": {
    "papermill": {
     "duration": 0.039393,
     "end_time": "2021-11-30T05:15:11.463399",
     "exception": false,
     "start_time": "2021-11-30T05:15:11.424006",
     "status": "completed"
    },
    "tags": []
   },
   "source": [
    "# Table Content\n",
    "\n",
    "1. Introduction\n",
    "2. Installing Libraries\n",
    "3. Importing Data\n",
    "4. Missing Value Analysis\n",
    "5. Exploratory Data Analysis\n",
    "6. Feature Engineering\n",
    "7. Modeling\n",
    "8. Hyperparameter Tuning\n",
    "9. Prediction"
   ]
  },
  {
   "cell_type": "markdown",
   "id": "d96aaf80",
   "metadata": {
    "papermill": {
     "duration": 0.041399,
     "end_time": "2021-11-30T05:15:11.550742",
     "exception": false,
     "start_time": "2021-11-30T05:15:11.509343",
     "status": "completed"
    },
    "tags": []
   },
   "source": [
    "# Introduction\n",
    "According to WHO, Diabetes is a chronic disease that occurs either when the pancreas does not produce enough insulin or when the body cannot effectively use the insulin it produces. Insulin is a hormone that regulates blood sugar. Hyperglycaemia, or raised blood sugar, is a common effect of uncontrolled diabetes and over time leads to serious damage to many of the body's systems, especially the nerves and blood vessels.\n",
    "\n",
    "Between 2000 and 2016, there was a 5% increase in premature mortality rates (i.e. before the age of 70) from diabetes. In high-income countries the premature mortality rate due to diabetes decreased from 2000 to 2010 but then increased in 2010-2016. In lower-middle-income countries, the premature mortality rate due to diabetes increased across both periods.\n",
    "\n",
    "In this notebook, i will do some feature analysis and try to find out the rootcauses\n",
    "\n",
    "# <font size=\"5\">Objectives</font>\n",
    "1. To experiment with different classification methods to see which yields the highest accuracy\n",
    "2. Classify whether someone has diabetes or not from given features\n",
    "3. To determine which features are the most indicative of diabetes\n",
    "\n",
    "# <font size=\"5\">Dataset</font>\n",
    "I have used [Pima Indians Diabetes Database](https://www.kaggle.com/uciml/pima-indians-diabetes-database) Kaggle Dataset\n",
    "\n",
    "The dataset contains below features and labels:\n",
    "1. Pregnancies\n",
    "2. Glucose\n",
    "3. BloodPressure\n",
    "4. SkinThickness\n",
    "5. Insulin\n",
    "6. BMI\n",
    "7. DiabetesPedigreeFunction\n",
    "8. Age\n",
    "9. Outcome\n"
   ]
  },
  {
   "cell_type": "markdown",
   "id": "8963d260",
   "metadata": {
    "papermill": {
     "duration": 0.038727,
     "end_time": "2021-11-30T05:15:11.645515",
     "exception": false,
     "start_time": "2021-11-30T05:15:11.606788",
     "status": "completed"
    },
    "tags": []
   },
   "source": [
    "# Installing Libraries"
   ]
  },
  {
   "cell_type": "code",
   "execution_count": 1,
   "id": "d2175b7d",
   "metadata": {
    "_cell_guid": "b1076dfc-b9ad-4769-8c92-a6c4dae69d19",
    "_uuid": "8f2839f25d086af736a60e9eeb907d3b93b6e0e5",
    "execution": {
     "iopub.execute_input": "2021-11-30T05:15:11.738103Z",
     "iopub.status.busy": "2021-11-30T05:15:11.737244Z",
     "iopub.status.idle": "2021-11-30T05:15:13.074037Z",
     "shell.execute_reply": "2021-11-30T05:15:13.073404Z",
     "shell.execute_reply.started": "2021-11-30T05:02:07.123506Z"
    },
    "papermill": {
     "duration": 1.388994,
     "end_time": "2021-11-30T05:15:13.074233",
     "exception": false,
     "start_time": "2021-11-30T05:15:11.685239",
     "status": "completed"
    },
    "tags": []
   },
   "outputs": [
    {
     "name": "stdout",
     "output_type": "stream",
     "text": [
      "/kaggle/input/pima-indians-diabetes-database/diabetes.csv\n"
     ]
    }
   ],
   "source": [
    "import numpy as np # linear algebra\n",
    "import pandas as pd # data processing, CSV file I/O (e.g. pd.read_csv)\n",
    "import seaborn as sns # for data visualization\n",
    "import matplotlib.pyplot as plt # to plot charts\n",
    "from collections import Counter\n",
    "import os\n",
    "\n",
    "# Modeling\n",
    "from sklearn.preprocessing import QuantileTransformer\n",
    "from sklearn.metrics import confusion_matrix, accuracy_score, precision_score\n",
    "from sklearn.ensemble import RandomForestClassifier, AdaBoostClassifier, GradientBoostingClassifier, VotingClassifier\n",
    "from sklearn.linear_model import LogisticRegression\n",
    "from sklearn.neighbors import KNeighborsClassifier\n",
    "from sklearn.tree import DecisionTreeClassifier\n",
    "from sklearn.svm import SVC\n",
    "from sklearn.model_selection import GridSearchCV, cross_val_score, StratifiedKFold, learning_curve, train_test_split\n",
    "\n",
    "\n",
    "# Directory Structure\n",
    "for dirname, _, filenames in os.walk('/kaggle/input'):\n",
    "    for filename in filenames:\n",
    "        print(os.path.join(dirname, filename))"
   ]
  },
  {
   "cell_type": "markdown",
   "id": "9354bc5e",
   "metadata": {
    "papermill": {
     "duration": 0.114546,
     "end_time": "2021-11-30T05:15:13.229994",
     "exception": false,
     "start_time": "2021-11-30T05:15:13.115448",
     "status": "completed"
    },
    "tags": []
   },
   "source": [
    "I have imported most common libraries used in python for machine learning such as Pandas, Seaborn, Matplitlib etc"
   ]
  },
  {
   "cell_type": "markdown",
   "id": "435a0949",
   "metadata": {
    "papermill": {
     "duration": 0.046981,
     "end_time": "2021-11-30T05:15:13.336076",
     "exception": false,
     "start_time": "2021-11-30T05:15:13.289095",
     "status": "completed"
    },
    "tags": []
   },
   "source": [
    "# Importing Data"
   ]
  },
  {
   "cell_type": "code",
   "execution_count": 2,
   "id": "3ddeabf8",
   "metadata": {
    "execution": {
     "iopub.execute_input": "2021-11-30T05:15:13.425011Z",
     "iopub.status.busy": "2021-11-30T05:15:13.424029Z",
     "iopub.status.idle": "2021-11-30T05:15:13.440105Z",
     "shell.execute_reply": "2021-11-30T05:15:13.440699Z",
     "shell.execute_reply.started": "2021-11-30T05:02:07.147079Z"
    },
    "papermill": {
     "duration": 0.063263,
     "end_time": "2021-11-30T05:15:13.440865",
     "exception": false,
     "start_time": "2021-11-30T05:15:13.377602",
     "status": "completed"
    },
    "tags": []
   },
   "outputs": [],
   "source": [
    "df = pd.read_csv(\"../input/pima-indians-diabetes-database/diabetes.csv\")"
   ]
  },
  {
   "cell_type": "code",
   "execution_count": 3,
   "id": "e8cb5c7b",
   "metadata": {
    "execution": {
     "iopub.execute_input": "2021-11-30T05:15:13.525918Z",
     "iopub.status.busy": "2021-11-30T05:15:13.524958Z",
     "iopub.status.idle": "2021-11-30T05:15:13.549461Z",
     "shell.execute_reply": "2021-11-30T05:15:13.548890Z",
     "shell.execute_reply.started": "2021-11-30T05:02:07.166197Z"
    },
    "papermill": {
     "duration": 0.068205,
     "end_time": "2021-11-30T05:15:13.549614",
     "exception": false,
     "start_time": "2021-11-30T05:15:13.481409",
     "status": "completed"
    },
    "tags": []
   },
   "outputs": [
    {
     "name": "stdout",
     "output_type": "stream",
     "text": [
      "<class 'pandas.core.frame.DataFrame'>\n",
      "RangeIndex: 768 entries, 0 to 767\n",
      "Data columns (total 9 columns):\n",
      " #   Column                    Non-Null Count  Dtype  \n",
      "---  ------                    --------------  -----  \n",
      " 0   Pregnancies               768 non-null    int64  \n",
      " 1   Glucose                   768 non-null    int64  \n",
      " 2   BloodPressure             768 non-null    int64  \n",
      " 3   SkinThickness             768 non-null    int64  \n",
      " 4   Insulin                   768 non-null    int64  \n",
      " 5   BMI                       768 non-null    float64\n",
      " 6   DiabetesPedigreeFunction  768 non-null    float64\n",
      " 7   Age                       768 non-null    int64  \n",
      " 8   Outcome                   768 non-null    int64  \n",
      "dtypes: float64(2), int64(7)\n",
      "memory usage: 54.1 KB\n"
     ]
    }
   ],
   "source": [
    "# Get familier with dataset structure\n",
    "\n",
    "df.info()"
   ]
  },
  {
   "cell_type": "markdown",
   "id": "d412a00f",
   "metadata": {
    "papermill": {
     "duration": 0.038842,
     "end_time": "2021-11-30T05:15:13.628132",
     "exception": false,
     "start_time": "2021-11-30T05:15:13.589290",
     "status": "completed"
    },
    "tags": []
   },
   "source": [
    "Excepting BMI and DiabetesPedigreeFunction all the columns are integer. Outcome is the label containing 1 and 0 values. 1 means person has diabetes and 0 mean person is not diabetic"
   ]
  },
  {
   "cell_type": "code",
   "execution_count": 4,
   "id": "731f9a17",
   "metadata": {
    "execution": {
     "iopub.execute_input": "2021-11-30T05:15:13.716272Z",
     "iopub.status.busy": "2021-11-30T05:15:13.715629Z",
     "iopub.status.idle": "2021-11-30T05:15:13.750333Z",
     "shell.execute_reply": "2021-11-30T05:15:13.750782Z",
     "shell.execute_reply.started": "2021-11-30T05:02:07.184479Z"
    },
    "papermill": {
     "duration": 0.082634,
     "end_time": "2021-11-30T05:15:13.750959",
     "exception": false,
     "start_time": "2021-11-30T05:15:13.668325",
     "status": "completed"
    },
    "tags": []
   },
   "outputs": [
    {
     "data": {
      "text/html": [
       "<div>\n",
       "<style scoped>\n",
       "    .dataframe tbody tr th:only-of-type {\n",
       "        vertical-align: middle;\n",
       "    }\n",
       "\n",
       "    .dataframe tbody tr th {\n",
       "        vertical-align: top;\n",
       "    }\n",
       "\n",
       "    .dataframe thead th {\n",
       "        text-align: right;\n",
       "    }\n",
       "</style>\n",
       "<table border=\"1\" class=\"dataframe\">\n",
       "  <thead>\n",
       "    <tr style=\"text-align: right;\">\n",
       "      <th></th>\n",
       "      <th>Pregnancies</th>\n",
       "      <th>Glucose</th>\n",
       "      <th>BloodPressure</th>\n",
       "      <th>SkinThickness</th>\n",
       "      <th>Insulin</th>\n",
       "      <th>BMI</th>\n",
       "      <th>DiabetesPedigreeFunction</th>\n",
       "      <th>Age</th>\n",
       "      <th>Outcome</th>\n",
       "    </tr>\n",
       "  </thead>\n",
       "  <tbody>\n",
       "    <tr>\n",
       "      <th>count</th>\n",
       "      <td>768.000000</td>\n",
       "      <td>768.000000</td>\n",
       "      <td>768.000000</td>\n",
       "      <td>768.000000</td>\n",
       "      <td>768.000000</td>\n",
       "      <td>768.000000</td>\n",
       "      <td>768.000000</td>\n",
       "      <td>768.000000</td>\n",
       "      <td>768.000000</td>\n",
       "    </tr>\n",
       "    <tr>\n",
       "      <th>mean</th>\n",
       "      <td>3.845052</td>\n",
       "      <td>120.894531</td>\n",
       "      <td>69.105469</td>\n",
       "      <td>20.536458</td>\n",
       "      <td>79.799479</td>\n",
       "      <td>31.992578</td>\n",
       "      <td>0.471876</td>\n",
       "      <td>33.240885</td>\n",
       "      <td>0.348958</td>\n",
       "    </tr>\n",
       "    <tr>\n",
       "      <th>std</th>\n",
       "      <td>3.369578</td>\n",
       "      <td>31.972618</td>\n",
       "      <td>19.355807</td>\n",
       "      <td>15.952218</td>\n",
       "      <td>115.244002</td>\n",
       "      <td>7.884160</td>\n",
       "      <td>0.331329</td>\n",
       "      <td>11.760232</td>\n",
       "      <td>0.476951</td>\n",
       "    </tr>\n",
       "    <tr>\n",
       "      <th>min</th>\n",
       "      <td>0.000000</td>\n",
       "      <td>0.000000</td>\n",
       "      <td>0.000000</td>\n",
       "      <td>0.000000</td>\n",
       "      <td>0.000000</td>\n",
       "      <td>0.000000</td>\n",
       "      <td>0.078000</td>\n",
       "      <td>21.000000</td>\n",
       "      <td>0.000000</td>\n",
       "    </tr>\n",
       "    <tr>\n",
       "      <th>25%</th>\n",
       "      <td>1.000000</td>\n",
       "      <td>99.000000</td>\n",
       "      <td>62.000000</td>\n",
       "      <td>0.000000</td>\n",
       "      <td>0.000000</td>\n",
       "      <td>27.300000</td>\n",
       "      <td>0.243750</td>\n",
       "      <td>24.000000</td>\n",
       "      <td>0.000000</td>\n",
       "    </tr>\n",
       "    <tr>\n",
       "      <th>50%</th>\n",
       "      <td>3.000000</td>\n",
       "      <td>117.000000</td>\n",
       "      <td>72.000000</td>\n",
       "      <td>23.000000</td>\n",
       "      <td>30.500000</td>\n",
       "      <td>32.000000</td>\n",
       "      <td>0.372500</td>\n",
       "      <td>29.000000</td>\n",
       "      <td>0.000000</td>\n",
       "    </tr>\n",
       "    <tr>\n",
       "      <th>75%</th>\n",
       "      <td>6.000000</td>\n",
       "      <td>140.250000</td>\n",
       "      <td>80.000000</td>\n",
       "      <td>32.000000</td>\n",
       "      <td>127.250000</td>\n",
       "      <td>36.600000</td>\n",
       "      <td>0.626250</td>\n",
       "      <td>41.000000</td>\n",
       "      <td>1.000000</td>\n",
       "    </tr>\n",
       "    <tr>\n",
       "      <th>max</th>\n",
       "      <td>17.000000</td>\n",
       "      <td>199.000000</td>\n",
       "      <td>122.000000</td>\n",
       "      <td>99.000000</td>\n",
       "      <td>846.000000</td>\n",
       "      <td>67.100000</td>\n",
       "      <td>2.420000</td>\n",
       "      <td>81.000000</td>\n",
       "      <td>1.000000</td>\n",
       "    </tr>\n",
       "  </tbody>\n",
       "</table>\n",
       "</div>"
      ],
      "text/plain": [
       "       Pregnancies     Glucose  BloodPressure  SkinThickness     Insulin  \\\n",
       "count   768.000000  768.000000     768.000000     768.000000  768.000000   \n",
       "mean      3.845052  120.894531      69.105469      20.536458   79.799479   \n",
       "std       3.369578   31.972618      19.355807      15.952218  115.244002   \n",
       "min       0.000000    0.000000       0.000000       0.000000    0.000000   \n",
       "25%       1.000000   99.000000      62.000000       0.000000    0.000000   \n",
       "50%       3.000000  117.000000      72.000000      23.000000   30.500000   \n",
       "75%       6.000000  140.250000      80.000000      32.000000  127.250000   \n",
       "max      17.000000  199.000000     122.000000      99.000000  846.000000   \n",
       "\n",
       "              BMI  DiabetesPedigreeFunction         Age     Outcome  \n",
       "count  768.000000                768.000000  768.000000  768.000000  \n",
       "mean    31.992578                  0.471876   33.240885    0.348958  \n",
       "std      7.884160                  0.331329   11.760232    0.476951  \n",
       "min      0.000000                  0.078000   21.000000    0.000000  \n",
       "25%     27.300000                  0.243750   24.000000    0.000000  \n",
       "50%     32.000000                  0.372500   29.000000    0.000000  \n",
       "75%     36.600000                  0.626250   41.000000    1.000000  \n",
       "max     67.100000                  2.420000   81.000000    1.000000  "
      ]
     },
     "execution_count": 4,
     "metadata": {},
     "output_type": "execute_result"
    }
   ],
   "source": [
    "df.describe()"
   ]
  },
  {
   "cell_type": "markdown",
   "id": "8a8834ce",
   "metadata": {
    "papermill": {
     "duration": 0.042081,
     "end_time": "2021-11-30T05:15:13.832527",
     "exception": false,
     "start_time": "2021-11-30T05:15:13.790446",
     "status": "completed"
    },
    "tags": []
   },
   "source": [
    "There are 768 records in the dataset, in which mean age of people is 33"
   ]
  },
  {
   "cell_type": "markdown",
   "id": "eb0fbb3c",
   "metadata": {
    "papermill": {
     "duration": 0.039823,
     "end_time": "2021-11-30T05:15:13.912765",
     "exception": false,
     "start_time": "2021-11-30T05:15:13.872942",
     "status": "completed"
    },
    "tags": []
   },
   "source": [
    "# Missing Value Analysis"
   ]
  },
  {
   "cell_type": "markdown",
   "id": "b6c0e311",
   "metadata": {
    "papermill": {
     "duration": 0.039307,
     "end_time": "2021-11-30T05:15:13.992391",
     "exception": false,
     "start_time": "2021-11-30T05:15:13.953084",
     "status": "completed"
    },
    "tags": []
   },
   "source": [
    "Next, i will cleanup the dataset which is the important part of data science. Missing data can lead to wrong statistics during modeling and predictions."
   ]
  },
  {
   "cell_type": "code",
   "execution_count": 5,
   "id": "620d511b",
   "metadata": {
    "execution": {
     "iopub.execute_input": "2021-11-30T05:15:14.083930Z",
     "iopub.status.busy": "2021-11-30T05:15:14.079840Z",
     "iopub.status.idle": "2021-11-30T05:15:14.109071Z",
     "shell.execute_reply": "2021-11-30T05:15:14.108552Z",
     "shell.execute_reply.started": "2021-11-30T05:02:07.235530Z"
    },
    "papermill": {
     "duration": 0.076312,
     "end_time": "2021-11-30T05:15:14.109246",
     "exception": false,
     "start_time": "2021-11-30T05:15:14.032934",
     "status": "completed"
    },
    "tags": []
   },
   "outputs": [
    {
     "data": {
      "text/html": [
       "<div>\n",
       "<style scoped>\n",
       "    .dataframe tbody tr th:only-of-type {\n",
       "        vertical-align: middle;\n",
       "    }\n",
       "\n",
       "    .dataframe tbody tr th {\n",
       "        vertical-align: top;\n",
       "    }\n",
       "\n",
       "    .dataframe thead th {\n",
       "        text-align: right;\n",
       "    }\n",
       "</style>\n",
       "<table border=\"1\" class=\"dataframe\">\n",
       "  <thead>\n",
       "    <tr style=\"text-align: right;\">\n",
       "      <th></th>\n",
       "      <th>Pregnancies</th>\n",
       "      <th>Glucose</th>\n",
       "      <th>BloodPressure</th>\n",
       "      <th>SkinThickness</th>\n",
       "      <th>Insulin</th>\n",
       "      <th>BMI</th>\n",
       "      <th>DiabetesPedigreeFunction</th>\n",
       "      <th>Age</th>\n",
       "      <th>Outcome</th>\n",
       "    </tr>\n",
       "  </thead>\n",
       "  <tbody>\n",
       "    <tr>\n",
       "      <th>count</th>\n",
       "      <td>768.000000</td>\n",
       "      <td>768.000000</td>\n",
       "      <td>768.000000</td>\n",
       "      <td>768.000000</td>\n",
       "      <td>768.000000</td>\n",
       "      <td>768.000000</td>\n",
       "      <td>768.000000</td>\n",
       "      <td>768.000000</td>\n",
       "      <td>768.000000</td>\n",
       "    </tr>\n",
       "    <tr>\n",
       "      <th>mean</th>\n",
       "      <td>3.845052</td>\n",
       "      <td>120.894531</td>\n",
       "      <td>69.105469</td>\n",
       "      <td>20.536458</td>\n",
       "      <td>79.799479</td>\n",
       "      <td>31.992578</td>\n",
       "      <td>0.471876</td>\n",
       "      <td>33.240885</td>\n",
       "      <td>0.348958</td>\n",
       "    </tr>\n",
       "    <tr>\n",
       "      <th>std</th>\n",
       "      <td>3.369578</td>\n",
       "      <td>31.972618</td>\n",
       "      <td>19.355807</td>\n",
       "      <td>15.952218</td>\n",
       "      <td>115.244002</td>\n",
       "      <td>7.884160</td>\n",
       "      <td>0.331329</td>\n",
       "      <td>11.760232</td>\n",
       "      <td>0.476951</td>\n",
       "    </tr>\n",
       "    <tr>\n",
       "      <th>min</th>\n",
       "      <td>0.000000</td>\n",
       "      <td>0.000000</td>\n",
       "      <td>0.000000</td>\n",
       "      <td>0.000000</td>\n",
       "      <td>0.000000</td>\n",
       "      <td>0.000000</td>\n",
       "      <td>0.078000</td>\n",
       "      <td>21.000000</td>\n",
       "      <td>0.000000</td>\n",
       "    </tr>\n",
       "    <tr>\n",
       "      <th>25%</th>\n",
       "      <td>1.000000</td>\n",
       "      <td>99.000000</td>\n",
       "      <td>62.000000</td>\n",
       "      <td>0.000000</td>\n",
       "      <td>0.000000</td>\n",
       "      <td>27.300000</td>\n",
       "      <td>0.243750</td>\n",
       "      <td>24.000000</td>\n",
       "      <td>0.000000</td>\n",
       "    </tr>\n",
       "    <tr>\n",
       "      <th>50%</th>\n",
       "      <td>3.000000</td>\n",
       "      <td>117.000000</td>\n",
       "      <td>72.000000</td>\n",
       "      <td>23.000000</td>\n",
       "      <td>30.500000</td>\n",
       "      <td>32.000000</td>\n",
       "      <td>0.372500</td>\n",
       "      <td>29.000000</td>\n",
       "      <td>0.000000</td>\n",
       "    </tr>\n",
       "    <tr>\n",
       "      <th>75%</th>\n",
       "      <td>6.000000</td>\n",
       "      <td>140.250000</td>\n",
       "      <td>80.000000</td>\n",
       "      <td>32.000000</td>\n",
       "      <td>127.250000</td>\n",
       "      <td>36.600000</td>\n",
       "      <td>0.626250</td>\n",
       "      <td>41.000000</td>\n",
       "      <td>1.000000</td>\n",
       "    </tr>\n",
       "    <tr>\n",
       "      <th>max</th>\n",
       "      <td>17.000000</td>\n",
       "      <td>199.000000</td>\n",
       "      <td>122.000000</td>\n",
       "      <td>99.000000</td>\n",
       "      <td>846.000000</td>\n",
       "      <td>67.100000</td>\n",
       "      <td>2.420000</td>\n",
       "      <td>81.000000</td>\n",
       "      <td>1.000000</td>\n",
       "    </tr>\n",
       "  </tbody>\n",
       "</table>\n",
       "</div>"
      ],
      "text/plain": [
       "       Pregnancies     Glucose  BloodPressure  SkinThickness     Insulin  \\\n",
       "count   768.000000  768.000000     768.000000     768.000000  768.000000   \n",
       "mean      3.845052  120.894531      69.105469      20.536458   79.799479   \n",
       "std       3.369578   31.972618      19.355807      15.952218  115.244002   \n",
       "min       0.000000    0.000000       0.000000       0.000000    0.000000   \n",
       "25%       1.000000   99.000000      62.000000       0.000000    0.000000   \n",
       "50%       3.000000  117.000000      72.000000      23.000000   30.500000   \n",
       "75%       6.000000  140.250000      80.000000      32.000000  127.250000   \n",
       "max      17.000000  199.000000     122.000000      99.000000  846.000000   \n",
       "\n",
       "              BMI  DiabetesPedigreeFunction         Age     Outcome  \n",
       "count  768.000000                768.000000  768.000000  768.000000  \n",
       "mean    31.992578                  0.471876   33.240885    0.348958  \n",
       "std      7.884160                  0.331329   11.760232    0.476951  \n",
       "min      0.000000                  0.078000   21.000000    0.000000  \n",
       "25%     27.300000                  0.243750   24.000000    0.000000  \n",
       "50%     32.000000                  0.372500   29.000000    0.000000  \n",
       "75%     36.600000                  0.626250   41.000000    1.000000  \n",
       "max     67.100000                  2.420000   81.000000    1.000000  "
      ]
     },
     "execution_count": 5,
     "metadata": {},
     "output_type": "execute_result"
    }
   ],
   "source": [
    "\n",
    "df.describe()"
   ]
  },
  {
   "cell_type": "code",
   "execution_count": 6,
   "id": "208d3d58",
   "metadata": {
    "execution": {
     "iopub.execute_input": "2021-11-30T05:15:14.198805Z",
     "iopub.status.busy": "2021-11-30T05:15:14.197859Z",
     "iopub.status.idle": "2021-11-30T05:15:14.202101Z",
     "shell.execute_reply": "2021-11-30T05:15:14.201636Z",
     "shell.execute_reply.started": "2021-11-30T05:02:07.279629Z"
    },
    "papermill": {
     "duration": 0.051573,
     "end_time": "2021-11-30T05:15:14.202261",
     "exception": false,
     "start_time": "2021-11-30T05:15:14.150688",
     "status": "completed"
    },
    "tags": []
   },
   "outputs": [
    {
     "data": {
      "text/plain": [
       "Pregnancies                 0\n",
       "Glucose                     0\n",
       "BloodPressure               0\n",
       "SkinThickness               0\n",
       "Insulin                     0\n",
       "BMI                         0\n",
       "DiabetesPedigreeFunction    0\n",
       "Age                         0\n",
       "Outcome                     0\n",
       "dtype: int64"
      ]
     },
     "execution_count": 6,
     "metadata": {},
     "output_type": "execute_result"
    }
   ],
   "source": [
    "# Explore missing values\n",
    "\n",
    "df.isnull().sum()"
   ]
  },
  {
   "cell_type": "markdown",
   "id": "4e8a94a5",
   "metadata": {
    "papermill": {
     "duration": 0.040776,
     "end_time": "2021-11-30T05:15:14.284473",
     "exception": false,
     "start_time": "2021-11-30T05:15:14.243697",
     "status": "completed"
    },
    "tags": []
   },
   "source": [
    "I observed that there is no missing values in dataset however the features like Glucose, BloodPressure, Insulin, SkinThickness has 0 values which is not possible. We have to replace 0 values with either mean or median values of specific column"
   ]
  },
  {
   "cell_type": "code",
   "execution_count": 7,
   "id": "c07e7755",
   "metadata": {
    "execution": {
     "iopub.execute_input": "2021-11-30T05:15:14.379626Z",
     "iopub.status.busy": "2021-11-30T05:15:14.378791Z",
     "iopub.status.idle": "2021-11-30T05:15:14.382475Z",
     "shell.execute_reply": "2021-11-30T05:15:14.381902Z",
     "shell.execute_reply.started": "2021-11-30T05:02:07.288646Z"
    },
    "papermill": {
     "duration": 0.056765,
     "end_time": "2021-11-30T05:15:14.382643",
     "exception": false,
     "start_time": "2021-11-30T05:15:14.325878",
     "status": "completed"
    },
    "tags": []
   },
   "outputs": [
    {
     "data": {
      "text/plain": [
       "99.0     17\n",
       "100.0    17\n",
       "111.0    14\n",
       "129.0    14\n",
       "125.0    14\n",
       "         ..\n",
       "191.0     1\n",
       "177.0     1\n",
       "44.0      1\n",
       "62.0      1\n",
       "190.0     1\n",
       "Name: Glucose, Length: 136, dtype: int64"
      ]
     },
     "execution_count": 7,
     "metadata": {},
     "output_type": "execute_result"
    }
   ],
   "source": [
    "df['Glucose'] = df['Glucose'].replace(0,df['Glucose'].mean())\n",
    "df.Glucose.value_counts()"
   ]
  },
  {
   "cell_type": "code",
   "execution_count": 8,
   "id": "34560425",
   "metadata": {
    "execution": {
     "iopub.execute_input": "2021-11-30T05:15:14.473157Z",
     "iopub.status.busy": "2021-11-30T05:15:14.470796Z",
     "iopub.status.idle": "2021-11-30T05:15:14.476704Z",
     "shell.execute_reply": "2021-11-30T05:15:14.476027Z",
     "shell.execute_reply.started": "2021-11-30T05:02:07.305659Z"
    },
    "papermill": {
     "duration": 0.05235,
     "end_time": "2021-11-30T05:15:14.476846",
     "exception": false,
     "start_time": "2021-11-30T05:15:14.424496",
     "status": "completed"
    },
    "tags": []
   },
   "outputs": [],
   "source": [
    "# Correcting missing values in blood pressure\n",
    "\n",
    "df[df['BloodPressure'] == 0]['BloodPressure'].value_counts()\n",
    "df['BloodPressure'] = df['BloodPressure'].replace(0,df['BloodPressure'].mean())"
   ]
  },
  {
   "cell_type": "markdown",
   "id": "a1e4470c",
   "metadata": {
    "papermill": {
     "duration": 0.041225,
     "end_time": "2021-11-30T05:15:14.558833",
     "exception": false,
     "start_time": "2021-11-30T05:15:14.517608",
     "status": "completed"
    },
    "tags": []
   },
   "source": [
    "There are 35 records with 0 BloodPressure in dataset"
   ]
  },
  {
   "cell_type": "code",
   "execution_count": 9,
   "id": "66003a92",
   "metadata": {
    "execution": {
     "iopub.execute_input": "2021-11-30T05:15:14.649006Z",
     "iopub.status.busy": "2021-11-30T05:15:14.647988Z",
     "iopub.status.idle": "2021-11-30T05:15:14.650837Z",
     "shell.execute_reply": "2021-11-30T05:15:14.650309Z",
     "shell.execute_reply.started": "2021-11-30T05:02:07.315761Z"
    },
    "papermill": {
     "duration": 0.051419,
     "end_time": "2021-11-30T05:15:14.650984",
     "exception": false,
     "start_time": "2021-11-30T05:15:14.599565",
     "status": "completed"
    },
    "tags": []
   },
   "outputs": [],
   "source": [
    "# Correcting missing values in BMI\n",
    "\n",
    "df[df['BMI'] == 0]['BMI'].value_counts()\n",
    "df['BMI'] = df['BMI'].replace(0, df['BMI'].median())"
   ]
  },
  {
   "cell_type": "code",
   "execution_count": 10,
   "id": "f9594160",
   "metadata": {
    "execution": {
     "iopub.execute_input": "2021-11-30T05:15:14.737773Z",
     "iopub.status.busy": "2021-11-30T05:15:14.736822Z",
     "iopub.status.idle": "2021-11-30T05:15:14.742769Z",
     "shell.execute_reply": "2021-11-30T05:15:14.743251Z",
     "shell.execute_reply.started": "2021-11-30T05:02:07.326010Z"
    },
    "papermill": {
     "duration": 0.050558,
     "end_time": "2021-11-30T05:15:14.743420",
     "exception": false,
     "start_time": "2021-11-30T05:15:14.692862",
     "status": "completed"
    },
    "tags": []
   },
   "outputs": [],
   "source": [
    "# Correct missing values in Insulin and SkinThickness\n",
    "\n",
    "df['SkinThickness'] = df['SkinThickness'].replace(0, df['SkinThickness'].median())\n",
    "df['Insulin'] = df['Insulin'].replace(0, df['Insulin'].median())"
   ]
  },
  {
   "cell_type": "code",
   "execution_count": 11,
   "id": "310ebfc8",
   "metadata": {
    "execution": {
     "iopub.execute_input": "2021-11-30T05:15:14.828895Z",
     "iopub.status.busy": "2021-11-30T05:15:14.827939Z",
     "iopub.status.idle": "2021-11-30T05:15:14.860293Z",
     "shell.execute_reply": "2021-11-30T05:15:14.860732Z",
     "shell.execute_reply.started": "2021-11-30T05:02:07.341235Z"
    },
    "papermill": {
     "duration": 0.076804,
     "end_time": "2021-11-30T05:15:14.860906",
     "exception": false,
     "start_time": "2021-11-30T05:15:14.784102",
     "status": "completed"
    },
    "tags": []
   },
   "outputs": [
    {
     "data": {
      "text/html": [
       "<div>\n",
       "<style scoped>\n",
       "    .dataframe tbody tr th:only-of-type {\n",
       "        vertical-align: middle;\n",
       "    }\n",
       "\n",
       "    .dataframe tbody tr th {\n",
       "        vertical-align: top;\n",
       "    }\n",
       "\n",
       "    .dataframe thead th {\n",
       "        text-align: right;\n",
       "    }\n",
       "</style>\n",
       "<table border=\"1\" class=\"dataframe\">\n",
       "  <thead>\n",
       "    <tr style=\"text-align: right;\">\n",
       "      <th></th>\n",
       "      <th>Pregnancies</th>\n",
       "      <th>Glucose</th>\n",
       "      <th>BloodPressure</th>\n",
       "      <th>SkinThickness</th>\n",
       "      <th>Insulin</th>\n",
       "      <th>BMI</th>\n",
       "      <th>DiabetesPedigreeFunction</th>\n",
       "      <th>Age</th>\n",
       "      <th>Outcome</th>\n",
       "    </tr>\n",
       "  </thead>\n",
       "  <tbody>\n",
       "    <tr>\n",
       "      <th>count</th>\n",
       "      <td>768.000000</td>\n",
       "      <td>768.000000</td>\n",
       "      <td>768.000000</td>\n",
       "      <td>768.000000</td>\n",
       "      <td>768.000000</td>\n",
       "      <td>768.000000</td>\n",
       "      <td>768.000000</td>\n",
       "      <td>768.000000</td>\n",
       "      <td>768.000000</td>\n",
       "    </tr>\n",
       "    <tr>\n",
       "      <th>mean</th>\n",
       "      <td>3.845052</td>\n",
       "      <td>121.681605</td>\n",
       "      <td>72.254807</td>\n",
       "      <td>27.334635</td>\n",
       "      <td>94.652344</td>\n",
       "      <td>32.450911</td>\n",
       "      <td>0.471876</td>\n",
       "      <td>33.240885</td>\n",
       "      <td>0.348958</td>\n",
       "    </tr>\n",
       "    <tr>\n",
       "      <th>std</th>\n",
       "      <td>3.369578</td>\n",
       "      <td>30.436016</td>\n",
       "      <td>12.115932</td>\n",
       "      <td>9.229014</td>\n",
       "      <td>105.547598</td>\n",
       "      <td>6.875366</td>\n",
       "      <td>0.331329</td>\n",
       "      <td>11.760232</td>\n",
       "      <td>0.476951</td>\n",
       "    </tr>\n",
       "    <tr>\n",
       "      <th>min</th>\n",
       "      <td>0.000000</td>\n",
       "      <td>44.000000</td>\n",
       "      <td>24.000000</td>\n",
       "      <td>7.000000</td>\n",
       "      <td>14.000000</td>\n",
       "      <td>18.200000</td>\n",
       "      <td>0.078000</td>\n",
       "      <td>21.000000</td>\n",
       "      <td>0.000000</td>\n",
       "    </tr>\n",
       "    <tr>\n",
       "      <th>25%</th>\n",
       "      <td>1.000000</td>\n",
       "      <td>99.750000</td>\n",
       "      <td>64.000000</td>\n",
       "      <td>23.000000</td>\n",
       "      <td>30.500000</td>\n",
       "      <td>27.500000</td>\n",
       "      <td>0.243750</td>\n",
       "      <td>24.000000</td>\n",
       "      <td>0.000000</td>\n",
       "    </tr>\n",
       "    <tr>\n",
       "      <th>50%</th>\n",
       "      <td>3.000000</td>\n",
       "      <td>117.000000</td>\n",
       "      <td>72.000000</td>\n",
       "      <td>23.000000</td>\n",
       "      <td>31.250000</td>\n",
       "      <td>32.000000</td>\n",
       "      <td>0.372500</td>\n",
       "      <td>29.000000</td>\n",
       "      <td>0.000000</td>\n",
       "    </tr>\n",
       "    <tr>\n",
       "      <th>75%</th>\n",
       "      <td>6.000000</td>\n",
       "      <td>140.250000</td>\n",
       "      <td>80.000000</td>\n",
       "      <td>32.000000</td>\n",
       "      <td>127.250000</td>\n",
       "      <td>36.600000</td>\n",
       "      <td>0.626250</td>\n",
       "      <td>41.000000</td>\n",
       "      <td>1.000000</td>\n",
       "    </tr>\n",
       "    <tr>\n",
       "      <th>max</th>\n",
       "      <td>17.000000</td>\n",
       "      <td>199.000000</td>\n",
       "      <td>122.000000</td>\n",
       "      <td>99.000000</td>\n",
       "      <td>846.000000</td>\n",
       "      <td>67.100000</td>\n",
       "      <td>2.420000</td>\n",
       "      <td>81.000000</td>\n",
       "      <td>1.000000</td>\n",
       "    </tr>\n",
       "  </tbody>\n",
       "</table>\n",
       "</div>"
      ],
      "text/plain": [
       "       Pregnancies     Glucose  BloodPressure  SkinThickness     Insulin  \\\n",
       "count   768.000000  768.000000     768.000000     768.000000  768.000000   \n",
       "mean      3.845052  121.681605      72.254807      27.334635   94.652344   \n",
       "std       3.369578   30.436016      12.115932       9.229014  105.547598   \n",
       "min       0.000000   44.000000      24.000000       7.000000   14.000000   \n",
       "25%       1.000000   99.750000      64.000000      23.000000   30.500000   \n",
       "50%       3.000000  117.000000      72.000000      23.000000   31.250000   \n",
       "75%       6.000000  140.250000      80.000000      32.000000  127.250000   \n",
       "max      17.000000  199.000000     122.000000      99.000000  846.000000   \n",
       "\n",
       "              BMI  DiabetesPedigreeFunction         Age     Outcome  \n",
       "count  768.000000                768.000000  768.000000  768.000000  \n",
       "mean    32.450911                  0.471876   33.240885    0.348958  \n",
       "std      6.875366                  0.331329   11.760232    0.476951  \n",
       "min     18.200000                  0.078000   21.000000    0.000000  \n",
       "25%     27.500000                  0.243750   24.000000    0.000000  \n",
       "50%     32.000000                  0.372500   29.000000    0.000000  \n",
       "75%     36.600000                  0.626250   41.000000    1.000000  \n",
       "max     67.100000                  2.420000   81.000000    1.000000  "
      ]
     },
     "execution_count": 11,
     "metadata": {},
     "output_type": "execute_result"
    }
   ],
   "source": [
    "# Review dataset statistics\n",
    "\n",
    "df.describe()"
   ]
  },
  {
   "cell_type": "markdown",
   "id": "a1382224",
   "metadata": {
    "papermill": {
     "duration": 0.041283,
     "end_time": "2021-11-30T05:15:14.944787",
     "exception": false,
     "start_time": "2021-11-30T05:15:14.903504",
     "status": "completed"
    },
    "tags": []
   },
   "source": [
    "Now i have dataset without missing values in features which is good"
   ]
  },
  {
   "cell_type": "markdown",
   "id": "b1b99ea9",
   "metadata": {
    "papermill": {
     "duration": 0.041534,
     "end_time": "2021-11-30T05:15:15.028251",
     "exception": false,
     "start_time": "2021-11-30T05:15:14.986717",
     "status": "completed"
    },
    "tags": []
   },
   "source": []
  },
  {
   "cell_type": "markdown",
   "id": "19b6e71b",
   "metadata": {
    "papermill": {
     "duration": 0.043109,
     "end_time": "2021-11-30T05:15:15.114118",
     "exception": false,
     "start_time": "2021-11-30T05:15:15.071009",
     "status": "completed"
    },
    "tags": []
   },
   "source": [
    "# Exploratory Data Analysis"
   ]
  },
  {
   "cell_type": "code",
   "execution_count": 12,
   "id": "0673c100",
   "metadata": {
    "execution": {
     "iopub.execute_input": "2021-11-30T05:15:15.200751Z",
     "iopub.status.busy": "2021-11-30T05:15:15.199792Z",
     "iopub.status.idle": "2021-11-30T05:15:15.213323Z",
     "shell.execute_reply": "2021-11-30T05:15:15.213738Z",
     "shell.execute_reply.started": "2021-11-30T05:02:07.387155Z"
    },
    "papermill": {
     "duration": 0.057927,
     "end_time": "2021-11-30T05:15:15.213910",
     "exception": false,
     "start_time": "2021-11-30T05:15:15.155983",
     "status": "completed"
    },
    "tags": []
   },
   "outputs": [
    {
     "data": {
      "text/html": [
       "<div>\n",
       "<style scoped>\n",
       "    .dataframe tbody tr th:only-of-type {\n",
       "        vertical-align: middle;\n",
       "    }\n",
       "\n",
       "    .dataframe tbody tr th {\n",
       "        vertical-align: top;\n",
       "    }\n",
       "\n",
       "    .dataframe thead th {\n",
       "        text-align: right;\n",
       "    }\n",
       "</style>\n",
       "<table border=\"1\" class=\"dataframe\">\n",
       "  <thead>\n",
       "    <tr style=\"text-align: right;\">\n",
       "      <th></th>\n",
       "      <th>Pregnancies</th>\n",
       "      <th>Glucose</th>\n",
       "      <th>BloodPressure</th>\n",
       "      <th>SkinThickness</th>\n",
       "      <th>Insulin</th>\n",
       "      <th>BMI</th>\n",
       "      <th>DiabetesPedigreeFunction</th>\n",
       "      <th>Age</th>\n",
       "      <th>Outcome</th>\n",
       "    </tr>\n",
       "  </thead>\n",
       "  <tbody>\n",
       "    <tr>\n",
       "      <th>0</th>\n",
       "      <td>6</td>\n",
       "      <td>148.0</td>\n",
       "      <td>72.0</td>\n",
       "      <td>35</td>\n",
       "      <td>30.5</td>\n",
       "      <td>33.6</td>\n",
       "      <td>0.627</td>\n",
       "      <td>50</td>\n",
       "      <td>1</td>\n",
       "    </tr>\n",
       "    <tr>\n",
       "      <th>1</th>\n",
       "      <td>1</td>\n",
       "      <td>85.0</td>\n",
       "      <td>66.0</td>\n",
       "      <td>29</td>\n",
       "      <td>30.5</td>\n",
       "      <td>26.6</td>\n",
       "      <td>0.351</td>\n",
       "      <td>31</td>\n",
       "      <td>0</td>\n",
       "    </tr>\n",
       "    <tr>\n",
       "      <th>2</th>\n",
       "      <td>8</td>\n",
       "      <td>183.0</td>\n",
       "      <td>64.0</td>\n",
       "      <td>23</td>\n",
       "      <td>30.5</td>\n",
       "      <td>23.3</td>\n",
       "      <td>0.672</td>\n",
       "      <td>32</td>\n",
       "      <td>1</td>\n",
       "    </tr>\n",
       "    <tr>\n",
       "      <th>3</th>\n",
       "      <td>1</td>\n",
       "      <td>89.0</td>\n",
       "      <td>66.0</td>\n",
       "      <td>23</td>\n",
       "      <td>94.0</td>\n",
       "      <td>28.1</td>\n",
       "      <td>0.167</td>\n",
       "      <td>21</td>\n",
       "      <td>0</td>\n",
       "    </tr>\n",
       "    <tr>\n",
       "      <th>4</th>\n",
       "      <td>0</td>\n",
       "      <td>137.0</td>\n",
       "      <td>40.0</td>\n",
       "      <td>35</td>\n",
       "      <td>168.0</td>\n",
       "      <td>43.1</td>\n",
       "      <td>2.288</td>\n",
       "      <td>33</td>\n",
       "      <td>1</td>\n",
       "    </tr>\n",
       "  </tbody>\n",
       "</table>\n",
       "</div>"
      ],
      "text/plain": [
       "   Pregnancies  Glucose  BloodPressure  SkinThickness  Insulin   BMI  \\\n",
       "0            6    148.0           72.0             35     30.5  33.6   \n",
       "1            1     85.0           66.0             29     30.5  26.6   \n",
       "2            8    183.0           64.0             23     30.5  23.3   \n",
       "3            1     89.0           66.0             23     94.0  28.1   \n",
       "4            0    137.0           40.0             35    168.0  43.1   \n",
       "\n",
       "   DiabetesPedigreeFunction  Age  Outcome  \n",
       "0                     0.627   50        1  \n",
       "1                     0.351   31        0  \n",
       "2                     0.672   32        1  \n",
       "3                     0.167   21        0  \n",
       "4                     2.288   33        1  "
      ]
     },
     "execution_count": 12,
     "metadata": {},
     "output_type": "execute_result"
    }
   ],
   "source": [
    "# Show top 5 rows\n",
    "df.head()"
   ]
  },
  {
   "cell_type": "markdown",
   "id": "91eee75e",
   "metadata": {
    "papermill": {
     "duration": 0.044307,
     "end_time": "2021-11-30T05:15:15.300057",
     "exception": false,
     "start_time": "2021-11-30T05:15:15.255750",
     "status": "completed"
    },
    "tags": []
   },
   "source": [
    "**Correlation**"
   ]
  },
  {
   "cell_type": "code",
   "execution_count": 13,
   "id": "a426b478",
   "metadata": {
    "execution": {
     "iopub.execute_input": "2021-11-30T05:15:15.388813Z",
     "iopub.status.busy": "2021-11-30T05:15:15.387814Z",
     "iopub.status.idle": "2021-11-30T05:15:16.190776Z",
     "shell.execute_reply": "2021-11-30T05:15:16.190120Z",
     "shell.execute_reply.started": "2021-11-30T05:02:07.406113Z"
    },
    "papermill": {
     "duration": 0.848442,
     "end_time": "2021-11-30T05:15:16.190911",
     "exception": false,
     "start_time": "2021-11-30T05:15:15.342469",
     "status": "completed"
    },
    "tags": []
   },
   "outputs": [
    {
     "data": {
      "text/plain": [
       "<AxesSubplot:>"
      ]
     },
     "execution_count": 13,
     "metadata": {},
     "output_type": "execute_result"
    },
    {
     "data": {
      "image/png": "[encoded data removed]",
      "text/plain": [
       "<Figure size 936x720 with 2 Axes>"
      ]
     },
     "metadata": {
      "needs_background": "light"
     },
     "output_type": "display_data"
    }
   ],
   "source": [
    "plt.figure(figsize=(13,10))\n",
    "sns.heatmap(df.corr(),annot=True, fmt = \".2f\", cmap = \"coolwarm\")"
   ]
  },
  {
   "cell_type": "markdown",
   "id": "5b1eb968",
   "metadata": {
    "papermill": {
     "duration": 0.043947,
     "end_time": "2021-11-30T05:15:16.279806",
     "exception": false,
     "start_time": "2021-11-30T05:15:16.235859",
     "status": "completed"
    },
    "tags": []
   },
   "source": [
    "According to observation, features like Pregnancies, Gluecose, BMI, and Age is more correlated with Outcome"
   ]
  },
  {
   "cell_type": "markdown",
   "id": "5de812fd",
   "metadata": {
    "papermill": {
     "duration": 0.043635,
     "end_time": "2021-11-30T05:15:16.367041",
     "exception": false,
     "start_time": "2021-11-30T05:15:16.323406",
     "status": "completed"
    },
    "tags": []
   },
   "source": [
    "**Pregnancies**"
   ]
  },
  {
   "cell_type": "code",
   "execution_count": 14,
   "id": "582b6ea2",
   "metadata": {
    "execution": {
     "iopub.execute_input": "2021-11-30T05:15:16.477597Z",
     "iopub.status.busy": "2021-11-30T05:15:16.476316Z",
     "iopub.status.idle": "2021-11-30T05:15:16.752373Z",
     "shell.execute_reply": "2021-11-30T05:15:16.753191Z",
     "shell.execute_reply.started": "2021-11-30T05:02:08.261569Z"
    },
    "papermill": {
     "duration": 0.3401,
     "end_time": "2021-11-30T05:15:16.753385",
     "exception": false,
     "start_time": "2021-11-30T05:15:16.413285",
     "status": "completed"
    },
    "tags": []
   },
   "outputs": [
    {
     "data": {
      "text/plain": [
       "<matplotlib.legend.Legend at 0x7f78149d36d0>"
      ]
     },
     "execution_count": 14,
     "metadata": {},
     "output_type": "execute_result"
    },
    {
     "data": {
      "image/png": "[encoded data removed]",
      "text/plain": [
       "<Figure size 936x432 with 1 Axes>"
      ]
     },
     "metadata": {
      "needs_background": "light"
     },
     "output_type": "display_data"
    }
   ],
   "source": [
    "# Explore Pregnancies vs Outcome\n",
    "plt.figure(figsize=(13,6))\n",
    "g = sns.kdeplot(df[\"Pregnancies\"][df[\"Outcome\"] == 1], color=\"Red\", shade = True)\n",
    "g = sns.kdeplot(df[\"Pregnancies\"][df[\"Outcome\"] == 0], ax =g, color=\"Green\", shade= True)\n",
    "g.set_xlabel(\"Pregnancies\")\n",
    "g.set_ylabel(\"Frequency\")\n",
    "g.legend([\"Positive\",\"Negative\"])\n"
   ]
  },
  {
   "cell_type": "markdown",
   "id": "8c5f5bbc",
   "metadata": {
    "papermill": {
     "duration": 0.045958,
     "end_time": "2021-11-30T05:15:16.846358",
     "exception": false,
     "start_time": "2021-11-30T05:15:16.800400",
     "status": "completed"
    },
    "tags": []
   },
   "source": [
    "**Outcome**"
   ]
  },
  {
   "cell_type": "code",
   "execution_count": 15,
   "id": "e1a406c1",
   "metadata": {
    "execution": {
     "iopub.execute_input": "2021-11-30T05:15:16.945038Z",
     "iopub.status.busy": "2021-11-30T05:15:16.944453Z",
     "iopub.status.idle": "2021-11-30T05:15:17.109198Z",
     "shell.execute_reply": "2021-11-30T05:15:17.108662Z",
     "shell.execute_reply.started": "2021-11-30T05:02:08.738958Z"
    },
    "papermill": {
     "duration": 0.216228,
     "end_time": "2021-11-30T05:15:17.109345",
     "exception": false,
     "start_time": "2021-11-30T05:15:16.893117",
     "status": "completed"
    },
    "tags": []
   },
   "outputs": [
    {
     "name": "stderr",
     "output_type": "stream",
     "text": [
      "/opt/conda/lib/python3.7/site-packages/seaborn/_decorators.py:43: FutureWarning: Pass the following variable as a keyword arg: x. From version 0.12, the only valid positional argument will be `data`, and passing other arguments without an explicit keyword will result in an error or misinterpretation.\n",
      "  FutureWarning\n"
     ]
    },
    {
     "data": {
      "text/plain": [
       "<AxesSubplot:xlabel='Outcome', ylabel='count'>"
      ]
     },
     "execution_count": 15,
     "metadata": {},
     "output_type": "execute_result"
    },
    {
     "data": {
      "image/png": "[encoded data removed]",
      "text/plain": [
       "<Figure size 432x288 with 1 Axes>"
      ]
     },
     "metadata": {
      "needs_background": "light"
     },
     "output_type": "display_data"
    }
   ],
   "source": [
    "sns.countplot('Outcome',data=df)\n"
   ]
  },
  {
   "cell_type": "markdown",
   "id": "c9402395",
   "metadata": {
    "papermill": {
     "duration": 0.046494,
     "end_time": "2021-11-30T05:15:17.203579",
     "exception": false,
     "start_time": "2021-11-30T05:15:17.157085",
     "status": "completed"
    },
    "tags": []
   },
   "source": [
    "There are more people who do not have diabetes in dataset which is around 65% and 35% people has diabetes"
   ]
  },
  {
   "cell_type": "code",
   "execution_count": 16,
   "id": "61e566cc",
   "metadata": {
    "execution": {
     "iopub.execute_input": "2021-11-30T05:15:17.304986Z",
     "iopub.status.busy": "2021-11-30T05:15:17.303960Z",
     "iopub.status.idle": "2021-11-30T05:15:17.321074Z",
     "shell.execute_reply": "2021-11-30T05:15:17.321521Z",
     "shell.execute_reply.started": "2021-11-30T05:02:08.889555Z"
    },
    "papermill": {
     "duration": 0.071002,
     "end_time": "2021-11-30T05:15:17.321690",
     "exception": false,
     "start_time": "2021-11-30T05:15:17.250688",
     "status": "completed"
    },
    "tags": []
   },
   "outputs": [
    {
     "data": {
      "text/html": [
       "<div>\n",
       "<style scoped>\n",
       "    .dataframe tbody tr th:only-of-type {\n",
       "        vertical-align: middle;\n",
       "    }\n",
       "\n",
       "    .dataframe tbody tr th {\n",
       "        vertical-align: top;\n",
       "    }\n",
       "\n",
       "    .dataframe thead th {\n",
       "        text-align: right;\n",
       "    }\n",
       "</style>\n",
       "<table border=\"1\" class=\"dataframe\">\n",
       "  <thead>\n",
       "    <tr style=\"text-align: right;\">\n",
       "      <th></th>\n",
       "      <th>Pregnancies</th>\n",
       "      <th>Glucose</th>\n",
       "      <th>BloodPressure</th>\n",
       "      <th>SkinThickness</th>\n",
       "      <th>Insulin</th>\n",
       "      <th>BMI</th>\n",
       "      <th>DiabetesPedigreeFunction</th>\n",
       "      <th>Age</th>\n",
       "      <th>Outcome</th>\n",
       "    </tr>\n",
       "  </thead>\n",
       "  <tbody>\n",
       "    <tr>\n",
       "      <th>0</th>\n",
       "      <td>6</td>\n",
       "      <td>148.0</td>\n",
       "      <td>72.0</td>\n",
       "      <td>35</td>\n",
       "      <td>30.5</td>\n",
       "      <td>33.6</td>\n",
       "      <td>0.627</td>\n",
       "      <td>50</td>\n",
       "      <td>1</td>\n",
       "    </tr>\n",
       "    <tr>\n",
       "      <th>1</th>\n",
       "      <td>1</td>\n",
       "      <td>85.0</td>\n",
       "      <td>66.0</td>\n",
       "      <td>29</td>\n",
       "      <td>30.5</td>\n",
       "      <td>26.6</td>\n",
       "      <td>0.351</td>\n",
       "      <td>31</td>\n",
       "      <td>0</td>\n",
       "    </tr>\n",
       "    <tr>\n",
       "      <th>2</th>\n",
       "      <td>8</td>\n",
       "      <td>183.0</td>\n",
       "      <td>64.0</td>\n",
       "      <td>23</td>\n",
       "      <td>30.5</td>\n",
       "      <td>23.3</td>\n",
       "      <td>0.672</td>\n",
       "      <td>32</td>\n",
       "      <td>1</td>\n",
       "    </tr>\n",
       "    <tr>\n",
       "      <th>3</th>\n",
       "      <td>1</td>\n",
       "      <td>89.0</td>\n",
       "      <td>66.0</td>\n",
       "      <td>23</td>\n",
       "      <td>94.0</td>\n",
       "      <td>28.1</td>\n",
       "      <td>0.167</td>\n",
       "      <td>21</td>\n",
       "      <td>0</td>\n",
       "    </tr>\n",
       "    <tr>\n",
       "      <th>4</th>\n",
       "      <td>0</td>\n",
       "      <td>137.0</td>\n",
       "      <td>40.0</td>\n",
       "      <td>35</td>\n",
       "      <td>168.0</td>\n",
       "      <td>43.1</td>\n",
       "      <td>2.288</td>\n",
       "      <td>33</td>\n",
       "      <td>1</td>\n",
       "    </tr>\n",
       "    <tr>\n",
       "      <th>...</th>\n",
       "      <td>...</td>\n",
       "      <td>...</td>\n",
       "      <td>...</td>\n",
       "      <td>...</td>\n",
       "      <td>...</td>\n",
       "      <td>...</td>\n",
       "      <td>...</td>\n",
       "      <td>...</td>\n",
       "      <td>...</td>\n",
       "    </tr>\n",
       "    <tr>\n",
       "      <th>763</th>\n",
       "      <td>10</td>\n",
       "      <td>101.0</td>\n",
       "      <td>76.0</td>\n",
       "      <td>48</td>\n",
       "      <td>180.0</td>\n",
       "      <td>32.9</td>\n",
       "      <td>0.171</td>\n",
       "      <td>63</td>\n",
       "      <td>0</td>\n",
       "    </tr>\n",
       "    <tr>\n",
       "      <th>764</th>\n",
       "      <td>2</td>\n",
       "      <td>122.0</td>\n",
       "      <td>70.0</td>\n",
       "      <td>27</td>\n",
       "      <td>30.5</td>\n",
       "      <td>36.8</td>\n",
       "      <td>0.340</td>\n",
       "      <td>27</td>\n",
       "      <td>0</td>\n",
       "    </tr>\n",
       "    <tr>\n",
       "      <th>765</th>\n",
       "      <td>5</td>\n",
       "      <td>121.0</td>\n",
       "      <td>72.0</td>\n",
       "      <td>23</td>\n",
       "      <td>112.0</td>\n",
       "      <td>26.2</td>\n",
       "      <td>0.245</td>\n",
       "      <td>30</td>\n",
       "      <td>0</td>\n",
       "    </tr>\n",
       "    <tr>\n",
       "      <th>766</th>\n",
       "      <td>1</td>\n",
       "      <td>126.0</td>\n",
       "      <td>60.0</td>\n",
       "      <td>23</td>\n",
       "      <td>30.5</td>\n",
       "      <td>30.1</td>\n",
       "      <td>0.349</td>\n",
       "      <td>47</td>\n",
       "      <td>1</td>\n",
       "    </tr>\n",
       "    <tr>\n",
       "      <th>767</th>\n",
       "      <td>1</td>\n",
       "      <td>93.0</td>\n",
       "      <td>70.0</td>\n",
       "      <td>31</td>\n",
       "      <td>30.5</td>\n",
       "      <td>30.4</td>\n",
       "      <td>0.315</td>\n",
       "      <td>23</td>\n",
       "      <td>0</td>\n",
       "    </tr>\n",
       "  </tbody>\n",
       "</table>\n",
       "<p>768 rows × 9 columns</p>\n",
       "</div>"
      ],
      "text/plain": [
       "     Pregnancies  Glucose  BloodPressure  SkinThickness  Insulin   BMI  \\\n",
       "0              6    148.0           72.0             35     30.5  33.6   \n",
       "1              1     85.0           66.0             29     30.5  26.6   \n",
       "2              8    183.0           64.0             23     30.5  23.3   \n",
       "3              1     89.0           66.0             23     94.0  28.1   \n",
       "4              0    137.0           40.0             35    168.0  43.1   \n",
       "..           ...      ...            ...            ...      ...   ...   \n",
       "763           10    101.0           76.0             48    180.0  32.9   \n",
       "764            2    122.0           70.0             27     30.5  36.8   \n",
       "765            5    121.0           72.0             23    112.0  26.2   \n",
       "766            1    126.0           60.0             23     30.5  30.1   \n",
       "767            1     93.0           70.0             31     30.5  30.4   \n",
       "\n",
       "     DiabetesPedigreeFunction  Age  Outcome  \n",
       "0                       0.627   50        1  \n",
       "1                       0.351   31        0  \n",
       "2                       0.672   32        1  \n",
       "3                       0.167   21        0  \n",
       "4                       2.288   33        1  \n",
       "..                        ...  ...      ...  \n",
       "763                     0.171   63        0  \n",
       "764                     0.340   27        0  \n",
       "765                     0.245   30        0  \n",
       "766                     0.349   47        1  \n",
       "767                     0.315   23        0  \n",
       "\n",
       "[768 rows x 9 columns]"
      ]
     },
     "execution_count": 16,
     "metadata": {},
     "output_type": "execute_result"
    }
   ],
   "source": [
    "df"
   ]
  },
  {
   "cell_type": "markdown",
   "id": "4f5ac5a0",
   "metadata": {
    "papermill": {
     "duration": 0.046764,
     "end_time": "2021-11-30T05:15:17.415311",
     "exception": false,
     "start_time": "2021-11-30T05:15:17.368547",
     "status": "completed"
    },
    "tags": []
   },
   "source": [
    "**Glucose**"
   ]
  },
  {
   "cell_type": "code",
   "execution_count": 17,
   "id": "86e2e35b",
   "metadata": {
    "execution": {
     "iopub.execute_input": "2021-11-30T05:15:17.515911Z",
     "iopub.status.busy": "2021-11-30T05:15:17.515321Z",
     "iopub.status.idle": "2021-11-30T05:15:17.733066Z",
     "shell.execute_reply": "2021-11-30T05:15:17.733592Z",
     "shell.execute_reply.started": "2021-11-30T05:02:08.917010Z"
    },
    "papermill": {
     "duration": 0.271576,
     "end_time": "2021-11-30T05:15:17.733772",
     "exception": false,
     "start_time": "2021-11-30T05:15:17.462196",
     "status": "completed"
    },
    "tags": []
   },
   "outputs": [
    {
     "data": {
      "text/plain": [
       "<AxesSubplot:xlabel='Outcome', ylabel='Glucose'>"
      ]
     },
     "execution_count": 17,
     "metadata": {},
     "output_type": "execute_result"
    },
    {
     "data": {
      "image/png": "[encoded data removed]",
      "text/plain": [
       "<Figure size 720x432 with 1 Axes>"
      ]
     },
     "metadata": {
      "needs_background": "light"
     },
     "output_type": "display_data"
    }
   ],
   "source": [
    "plt.figure(figsize=(10,6))\n",
    "sns.violinplot(data=df, x=\"Outcome\", y=\"Glucose\",\n",
    "               split=True, inner=\"quart\", linewidth=1)"
   ]
  },
  {
   "cell_type": "markdown",
   "id": "dd5381b5",
   "metadata": {
    "papermill": {
     "duration": 0.05162,
     "end_time": "2021-11-30T05:15:17.833700",
     "exception": false,
     "start_time": "2021-11-30T05:15:17.782080",
     "status": "completed"
    },
    "tags": []
   },
   "source": [
    "The chances of diabetes is gradually increasing with level of Glucose"
   ]
  },
  {
   "cell_type": "code",
   "execution_count": 18,
   "id": "a3e8c66e",
   "metadata": {
    "execution": {
     "iopub.execute_input": "2021-11-30T05:15:17.940238Z",
     "iopub.status.busy": "2021-11-30T05:15:17.936915Z",
     "iopub.status.idle": "2021-11-30T05:15:18.225838Z",
     "shell.execute_reply": "2021-11-30T05:15:18.225187Z",
     "shell.execute_reply.started": "2021-11-30T05:02:09.116461Z"
    },
    "papermill": {
     "duration": 0.34139,
     "end_time": "2021-11-30T05:15:18.225975",
     "exception": false,
     "start_time": "2021-11-30T05:15:17.884585",
     "status": "completed"
    },
    "tags": []
   },
   "outputs": [
    {
     "data": {
      "text/plain": [
       "<matplotlib.legend.Legend at 0x7f781485a9d0>"
      ]
     },
     "execution_count": 18,
     "metadata": {},
     "output_type": "execute_result"
    },
    {
     "data": {
      "image/png": "[encoded data removed]",
      "text/plain": [
       "<Figure size 936x432 with 1 Axes>"
      ]
     },
     "metadata": {
      "needs_background": "light"
     },
     "output_type": "display_data"
    }
   ],
   "source": [
    "# Explore Glucose vs Outcome\n",
    "\n",
    "plt.figure(figsize=(13,6))\n",
    "g = sns.kdeplot(df[\"Glucose\"][df[\"Outcome\"] == 1], color=\"Red\", shade = True)\n",
    "g = sns.kdeplot(df[\"Glucose\"][df[\"Outcome\"] == 0], ax =g, color=\"Green\", shade= True)\n",
    "g.set_xlabel(\"Glucose\")\n",
    "g.set_ylabel(\"Frequency\")\n",
    "g.legend([\"Positive\",\"Negative\"])\n"
   ]
  },
  {
   "cell_type": "markdown",
   "id": "5ea6af4f",
   "metadata": {
    "papermill": {
     "duration": 0.050185,
     "end_time": "2021-11-30T05:15:18.326712",
     "exception": false,
     "start_time": "2021-11-30T05:15:18.276527",
     "status": "completed"
    },
    "tags": []
   },
   "source": [
    "**Explore Glucose vs BMI vs Age**"
   ]
  },
  {
   "cell_type": "code",
   "execution_count": 19,
   "id": "4b951684",
   "metadata": {
    "execution": {
     "iopub.execute_input": "2021-11-30T05:15:18.429198Z",
     "iopub.status.busy": "2021-11-30T05:15:18.428281Z",
     "iopub.status.idle": "2021-11-30T05:15:18.933282Z",
     "shell.execute_reply": "2021-11-30T05:15:18.932798Z",
     "shell.execute_reply.started": "2021-11-30T05:02:09.434287Z"
    },
    "papermill": {
     "duration": 0.557474,
     "end_time": "2021-11-30T05:15:18.933429",
     "exception": false,
     "start_time": "2021-11-30T05:15:18.375955",
     "status": "completed"
    },
    "tags": []
   },
   "outputs": [
    {
     "data": {
      "text/plain": [
       "<AxesSubplot:xlabel='Glucose', ylabel='BMI'>"
      ]
     },
     "execution_count": 19,
     "metadata": {},
     "output_type": "execute_result"
    },
    {
     "data": {
      "image/png": "[encoded data removed]",
      "text/plain": [
       "<Figure size 1440x720 with 1 Axes>"
      ]
     },
     "metadata": {
      "needs_background": "light"
     },
     "output_type": "display_data"
    }
   ],
   "source": [
    "# Glucose vs BMI vs Age\n",
    "\n",
    "plt.figure(figsize=(20,10))\n",
    "sns.scatterplot(data=df, x=\"Glucose\", y=\"BMI\", hue=\"Age\", size=\"Age\")"
   ]
  },
  {
   "cell_type": "markdown",
   "id": "df63aa38",
   "metadata": {
    "papermill": {
     "duration": 0.05331,
     "end_time": "2021-11-30T05:15:19.040121",
     "exception": false,
     "start_time": "2021-11-30T05:15:18.986811",
     "status": "completed"
    },
    "tags": []
   },
   "source": [
    "As per observation there are some outliers in features. We need to remove outliers in feature engineering"
   ]
  },
  {
   "cell_type": "markdown",
   "id": "a13e066a",
   "metadata": {
    "papermill": {
     "duration": 0.053886,
     "end_time": "2021-11-30T05:15:19.148081",
     "exception": false,
     "start_time": "2021-11-30T05:15:19.094195",
     "status": "completed"
    },
    "tags": []
   },
   "source": [
    "**BloodPressure**"
   ]
  },
  {
   "cell_type": "code",
   "execution_count": 20,
   "id": "37a61437",
   "metadata": {
    "execution": {
     "iopub.execute_input": "2021-11-30T05:15:19.262362Z",
     "iopub.status.busy": "2021-11-30T05:15:19.260278Z",
     "iopub.status.idle": "2021-11-30T05:15:19.521510Z",
     "shell.execute_reply": "2021-11-30T05:15:19.520957Z",
     "shell.execute_reply.started": "2021-11-30T05:02:09.996474Z"
    },
    "papermill": {
     "duration": 0.320062,
     "end_time": "2021-11-30T05:15:19.521663",
     "exception": false,
     "start_time": "2021-11-30T05:15:19.201601",
     "status": "completed"
    },
    "tags": []
   },
   "outputs": [
    {
     "data": {
      "text/plain": [
       "<seaborn.axisgrid.FacetGrid at 0x7f78146a5d50>"
      ]
     },
     "execution_count": 20,
     "metadata": {},
     "output_type": "execute_result"
    },
    {
     "data": {
      "image/png": "[encoded data removed]",
      "text/plain": [
       "<Figure size 360x360 with 1 Axes>"
      ]
     },
     "metadata": {
      "needs_background": "light"
     },
     "output_type": "display_data"
    }
   ],
   "source": [
    "# Explore Age vs Sex, Parch , Pclass and SibSP\n",
    "g = sns.catplot(y=\"BloodPressure\",x=\"Outcome\",data=df,kind=\"box\")\n",
    "g.set_ylabels(\"Blood Pressure\")\n",
    "g.set_xlabels(\"Outcome\")"
   ]
  },
  {
   "cell_type": "markdown",
   "id": "8ee61108",
   "metadata": {
    "papermill": {
     "duration": 0.0536,
     "end_time": "2021-11-30T05:15:19.629391",
     "exception": false,
     "start_time": "2021-11-30T05:15:19.575791",
     "status": "completed"
    },
    "tags": []
   },
   "source": [
    "**Age vs Outcome**"
   ]
  },
  {
   "cell_type": "code",
   "execution_count": 21,
   "id": "98e4cd95",
   "metadata": {
    "execution": {
     "iopub.execute_input": "2021-11-30T05:15:19.747177Z",
     "iopub.status.busy": "2021-11-30T05:15:19.746450Z",
     "iopub.status.idle": "2021-11-30T05:15:20.021613Z",
     "shell.execute_reply": "2021-11-30T05:15:20.020853Z",
     "shell.execute_reply.started": "2021-11-30T05:02:10.266521Z"
    },
    "papermill": {
     "duration": 0.336686,
     "end_time": "2021-11-30T05:15:20.021759",
     "exception": false,
     "start_time": "2021-11-30T05:15:19.685073",
     "status": "completed"
    },
    "tags": []
   },
   "outputs": [
    {
     "data": {
      "text/plain": [
       "<seaborn.axisgrid.FacetGrid at 0x7f78145cad50>"
      ]
     },
     "execution_count": 21,
     "metadata": {},
     "output_type": "execute_result"
    },
    {
     "data": {
      "image/png": "[encoded data removed]",
      "text/plain": [
       "<Figure size 360x360 with 1 Axes>"
      ]
     },
     "metadata": {
      "needs_background": "light"
     },
     "output_type": "display_data"
    }
   ],
   "source": [
    "# Explore Age\n",
    "\n",
    "g = sns.catplot(y=\"Age\",x=\"Outcome\",data=df,kind=\"box\")\n",
    "g.set_ylabels(\"Age\")\n",
    "g.set_xlabels(\"Outcome\")"
   ]
  },
  {
   "cell_type": "markdown",
   "id": "ebe99068",
   "metadata": {
    "papermill": {
     "duration": 0.057376,
     "end_time": "2021-11-30T05:15:20.134159",
     "exception": false,
     "start_time": "2021-11-30T05:15:20.076783",
     "status": "completed"
    },
    "tags": []
   },
   "source": [
    "**DiabetesPedigreeFunction**"
   ]
  },
  {
   "cell_type": "code",
   "execution_count": 22,
   "id": "815176a4",
   "metadata": {
    "execution": {
     "iopub.execute_input": "2021-11-30T05:15:20.278079Z",
     "iopub.status.busy": "2021-11-30T05:15:20.276336Z",
     "iopub.status.idle": "2021-11-30T05:15:20.468598Z",
     "shell.execute_reply": "2021-11-30T05:15:20.468103Z",
     "shell.execute_reply.started": "2021-11-30T05:02:10.545456Z"
    },
    "papermill": {
     "duration": 0.278783,
     "end_time": "2021-11-30T05:15:20.468743",
     "exception": false,
     "start_time": "2021-11-30T05:15:20.189960",
     "status": "completed"
    },
    "tags": []
   },
   "outputs": [
    {
     "data": {
      "text/plain": [
       "<seaborn.axisgrid.FacetGrid at 0x7f78145cad50>"
      ]
     },
     "execution_count": 22,
     "metadata": {},
     "output_type": "execute_result"
    },
    {
     "data": {
      "image/png": "[encoded data removed]",
      "text/plain": [
       "<Figure size 504x360 with 1 Axes>"
      ]
     },
     "metadata": {},
     "output_type": "display_data"
    }
   ],
   "source": [
    "sns.set_theme(style=\"whitegrid\")\n",
    "plt.figure(figsize=(7,5))\n",
    "\n",
    "sns.boxenplot(x=\"Outcome\", y=\"DiabetesPedigreeFunction\",\n",
    "              color=\"b\", \n",
    "              scale=\"linear\", data=df)\n",
    "g.set_ylabels(\"Diabetes Pedigree Function\")\n",
    "g.set_xlabels(\"Outcome\")"
   ]
  },
  {
   "cell_type": "markdown",
   "id": "8c5af782",
   "metadata": {
    "papermill": {
     "duration": 0.055458,
     "end_time": "2021-11-30T05:15:20.580526",
     "exception": false,
     "start_time": "2021-11-30T05:15:20.525068",
     "status": "completed"
    },
    "tags": []
   },
   "source": [
    "# Feature Enginnering"
   ]
  },
  {
   "cell_type": "markdown",
   "id": "696e3d32",
   "metadata": {
    "papermill": {
     "duration": 0.05553,
     "end_time": "2021-11-30T05:15:20.691711",
     "exception": false,
     "start_time": "2021-11-30T05:15:20.636181",
     "status": "completed"
    },
    "tags": []
   },
   "source": [
    "Till now, i explored the dataset, did missing value corrections and data visualization. Next, i have started feature engineering. Feature engineering is useful to improve the performance of machine learning algorithms and is often considered as applied machine learning. Selecting the important features and reducing the size of the feature set makes computation in machine learning and data analytic algorithms more feasible."
   ]
  },
  {
   "cell_type": "markdown",
   "id": "f985fa96",
   "metadata": {
    "papermill": {
     "duration": 0.056223,
     "end_time": "2021-11-30T05:15:20.803599",
     "exception": false,
     "start_time": "2021-11-30T05:15:20.747376",
     "status": "completed"
    },
    "tags": []
   },
   "source": [
    "# <font size=\"5\">Outlier Detection</font>"
   ]
  },
  {
   "cell_type": "code",
   "execution_count": 23,
   "id": "369b26da",
   "metadata": {
    "execution": {
     "iopub.execute_input": "2021-11-30T05:15:20.925774Z",
     "iopub.status.busy": "2021-11-30T05:15:20.925050Z",
     "iopub.status.idle": "2021-11-30T05:15:20.935458Z",
     "shell.execute_reply": "2021-11-30T05:15:20.935956Z",
     "shell.execute_reply.started": "2021-11-30T05:02:10.732179Z"
    },
    "papermill": {
     "duration": 0.075739,
     "end_time": "2021-11-30T05:15:20.936303",
     "exception": false,
     "start_time": "2021-11-30T05:15:20.860564",
     "status": "completed"
    },
    "tags": []
   },
   "outputs": [],
   "source": [
    "def detect_outliers(df,n,features):\n",
    "    outlier_indices = []\n",
    "    \"\"\"\n",
    "    Detect outliers from given list of features. It returns a list of the indices\n",
    "    according to the observations containing more than n outliers according\n",
    "    to the Tukey method\n",
    "    \"\"\"\n",
    "    # iterate over features(columns)\n",
    "    for col in features:\n",
    "        Q1 = np.percentile(df[col], 25)\n",
    "        Q3 = np.percentile(df[col],75)\n",
    "        IQR = Q3 - Q1\n",
    "        \n",
    "        # outlier step\n",
    "        outlier_step = 1.5 * IQR\n",
    "        \n",
    "        # Determine a list of indices of outliers for feature col\n",
    "        outlier_list_col = df[(df[col] < Q1 - outlier_step) | (df[col] > Q3 + outlier_step )].index\n",
    "        \n",
    "        # append the found outlier indices for col to the list of outlier indices \n",
    "        outlier_indices.extend(outlier_list_col)\n",
    "        \n",
    "    # select observations containing more than 2 outliers\n",
    "    outlier_indices = Counter(outlier_indices)\n",
    "    multiple_outliers = list( k for k, v in outlier_indices.items() if v > n )\n",
    "    \n",
    "    return multiple_outliers   \n",
    "\n",
    "# detect outliers from numeric features\n",
    "outliers_to_drop = detect_outliers(df, 2 ,[\"Pregnancies\", 'Glucose', 'BloodPressure', 'BMI', 'DiabetesPedigreeFunction', 'SkinThickness', 'Insulin', 'Age'])"
   ]
  },
  {
   "cell_type": "code",
   "execution_count": 24,
   "id": "bda42941",
   "metadata": {
    "execution": {
     "iopub.execute_input": "2021-11-30T05:15:21.051198Z",
     "iopub.status.busy": "2021-11-30T05:15:21.050574Z",
     "iopub.status.idle": "2021-11-30T05:15:21.062902Z",
     "shell.execute_reply": "2021-11-30T05:15:21.063381Z",
     "shell.execute_reply.started": "2021-11-30T05:02:10.756892Z"
    },
    "papermill": {
     "duration": 0.071393,
     "end_time": "2021-11-30T05:15:21.063564",
     "exception": false,
     "start_time": "2021-11-30T05:15:20.992171",
     "status": "completed"
    },
    "tags": []
   },
   "outputs": [
    {
     "data": {
      "text/html": [
       "<div>\n",
       "<style scoped>\n",
       "    .dataframe tbody tr th:only-of-type {\n",
       "        vertical-align: middle;\n",
       "    }\n",
       "\n",
       "    .dataframe tbody tr th {\n",
       "        vertical-align: top;\n",
       "    }\n",
       "\n",
       "    .dataframe thead th {\n",
       "        text-align: right;\n",
       "    }\n",
       "</style>\n",
       "<table border=\"1\" class=\"dataframe\">\n",
       "  <thead>\n",
       "    <tr style=\"text-align: right;\">\n",
       "      <th></th>\n",
       "      <th>Pregnancies</th>\n",
       "      <th>Glucose</th>\n",
       "      <th>BloodPressure</th>\n",
       "      <th>SkinThickness</th>\n",
       "      <th>Insulin</th>\n",
       "      <th>BMI</th>\n",
       "      <th>DiabetesPedigreeFunction</th>\n",
       "      <th>Age</th>\n",
       "      <th>Outcome</th>\n",
       "    </tr>\n",
       "  </thead>\n",
       "  <tbody>\n",
       "    <tr>\n",
       "      <th>177</th>\n",
       "      <td>0</td>\n",
       "      <td>129.0</td>\n",
       "      <td>110.0</td>\n",
       "      <td>46</td>\n",
       "      <td>130.0</td>\n",
       "      <td>67.1</td>\n",
       "      <td>0.319</td>\n",
       "      <td>26</td>\n",
       "      <td>1</td>\n",
       "    </tr>\n",
       "    <tr>\n",
       "      <th>445</th>\n",
       "      <td>0</td>\n",
       "      <td>180.0</td>\n",
       "      <td>78.0</td>\n",
       "      <td>63</td>\n",
       "      <td>14.0</td>\n",
       "      <td>59.4</td>\n",
       "      <td>2.420</td>\n",
       "      <td>25</td>\n",
       "      <td>1</td>\n",
       "    </tr>\n",
       "    <tr>\n",
       "      <th>370</th>\n",
       "      <td>3</td>\n",
       "      <td>173.0</td>\n",
       "      <td>82.0</td>\n",
       "      <td>48</td>\n",
       "      <td>465.0</td>\n",
       "      <td>38.4</td>\n",
       "      <td>2.137</td>\n",
       "      <td>25</td>\n",
       "      <td>1</td>\n",
       "    </tr>\n",
       "  </tbody>\n",
       "</table>\n",
       "</div>"
      ],
      "text/plain": [
       "     Pregnancies  Glucose  BloodPressure  SkinThickness  Insulin   BMI  \\\n",
       "177            0    129.0          110.0             46    130.0  67.1   \n",
       "445            0    180.0           78.0             63     14.0  59.4   \n",
       "370            3    173.0           82.0             48    465.0  38.4   \n",
       "\n",
       "     DiabetesPedigreeFunction  Age  Outcome  \n",
       "177                     0.319   26        1  \n",
       "445                     2.420   25        1  \n",
       "370                     2.137   25        1  "
      ]
     },
     "execution_count": 24,
     "metadata": {},
     "output_type": "execute_result"
    }
   ],
   "source": [
    "df.loc[outliers_to_drop] # Show the outliers rows"
   ]
  },
  {
   "cell_type": "code",
   "execution_count": 25,
   "id": "2be95c34",
   "metadata": {
    "execution": {
     "iopub.execute_input": "2021-11-30T05:15:21.183314Z",
     "iopub.status.busy": "2021-11-30T05:15:21.182675Z",
     "iopub.status.idle": "2021-11-30T05:15:21.187114Z",
     "shell.execute_reply": "2021-11-30T05:15:21.187626Z",
     "shell.execute_reply.started": "2021-11-30T05:02:10.775675Z"
    },
    "papermill": {
     "duration": 0.068228,
     "end_time": "2021-11-30T05:15:21.187791",
     "exception": false,
     "start_time": "2021-11-30T05:15:21.119563",
     "status": "completed"
    },
    "tags": []
   },
   "outputs": [],
   "source": [
    "df.drop(df.loc[outliers_to_drop].index, inplace=True)"
   ]
  },
  {
   "cell_type": "markdown",
   "id": "1fb9361c",
   "metadata": {
    "papermill": {
     "duration": 0.057242,
     "end_time": "2021-11-30T05:15:21.301417",
     "exception": false,
     "start_time": "2021-11-30T05:15:21.244175",
     "status": "completed"
    },
    "tags": []
   },
   "source": [
    "I have successfully removed all outliers from dataset now. The next step is to split the dataset in train and test and procceed the modeling"
   ]
  },
  {
   "cell_type": "markdown",
   "id": "8d2fce50",
   "metadata": {
    "papermill": {
     "duration": 0.056572,
     "end_time": "2021-11-30T05:15:21.414260",
     "exception": false,
     "start_time": "2021-11-30T05:15:21.357688",
     "status": "completed"
    },
    "tags": []
   },
   "source": [
    "# Modeling"
   ]
  },
  {
   "cell_type": "markdown",
   "id": "a669394e",
   "metadata": {
    "papermill": {
     "duration": 0.055742,
     "end_time": "2021-11-30T05:15:21.531024",
     "exception": false,
     "start_time": "2021-11-30T05:15:21.475282",
     "status": "completed"
    },
    "tags": []
   },
   "source": [
    "# <font size=\"5\">Transforming Data</font>\n"
   ]
  },
  {
   "cell_type": "markdown",
   "id": "72e20908",
   "metadata": {
    "papermill": {
     "duration": 0.055629,
     "end_time": "2021-11-30T05:15:21.642566",
     "exception": false,
     "start_time": "2021-11-30T05:15:21.586937",
     "status": "completed"
    },
    "tags": []
   },
   "source": [
    "Before i split the dataset i need to transform the data into quantile using `sklearn.preprocessing`"
   ]
  },
  {
   "cell_type": "code",
   "execution_count": 26,
   "id": "d764f558",
   "metadata": {
    "execution": {
     "iopub.execute_input": "2021-11-30T05:15:21.758955Z",
     "iopub.status.busy": "2021-11-30T05:15:21.758369Z",
     "iopub.status.idle": "2021-11-30T05:15:21.780611Z",
     "shell.execute_reply": "2021-11-30T05:15:21.781090Z",
     "shell.execute_reply.started": "2021-11-30T05:02:10.784021Z"
    },
    "papermill": {
     "duration": 0.081384,
     "end_time": "2021-11-30T05:15:21.781273",
     "exception": false,
     "start_time": "2021-11-30T05:15:21.699889",
     "status": "completed"
    },
    "tags": []
   },
   "outputs": [
    {
     "name": "stderr",
     "output_type": "stream",
     "text": [
      "/opt/conda/lib/python3.7/site-packages/sklearn/preprocessing/_data.py:2370: UserWarning: n_quantiles (1000) is greater than the total number of samples (765). n_quantiles is set to n_samples.\n",
      "  % (self.n_quantiles, n_samples))\n"
     ]
    }
   ],
   "source": [
    "q  = QuantileTransformer()\n",
    "X = q.fit_transform(df)\n",
    "transformedDF = q.transform(X)\n",
    "transformedDF = pd.DataFrame(X)\n",
    "transformedDF.columns =['Pregnancies', 'Glucose', 'BloodPressure', 'SkinThickness', 'Insulin', 'BMI', 'DiabetesPedigreeFunction', 'Age', 'Outcome']"
   ]
  },
  {
   "cell_type": "code",
   "execution_count": 27,
   "id": "d159ae18",
   "metadata": {
    "execution": {
     "iopub.execute_input": "2021-11-30T05:15:21.901703Z",
     "iopub.status.busy": "2021-11-30T05:15:21.900976Z",
     "iopub.status.idle": "2021-11-30T05:15:21.914354Z",
     "shell.execute_reply": "2021-11-30T05:15:21.914807Z",
     "shell.execute_reply.started": "2021-11-30T05:02:10.814805Z"
    },
    "papermill": {
     "duration": 0.0764,
     "end_time": "2021-11-30T05:15:21.914971",
     "exception": false,
     "start_time": "2021-11-30T05:15:21.838571",
     "status": "completed"
    },
    "tags": []
   },
   "outputs": [
    {
     "data": {
      "text/html": [
       "<div>\n",
       "<style scoped>\n",
       "    .dataframe tbody tr th:only-of-type {\n",
       "        vertical-align: middle;\n",
       "    }\n",
       "\n",
       "    .dataframe tbody tr th {\n",
       "        vertical-align: top;\n",
       "    }\n",
       "\n",
       "    .dataframe thead th {\n",
       "        text-align: right;\n",
       "    }\n",
       "</style>\n",
       "<table border=\"1\" class=\"dataframe\">\n",
       "  <thead>\n",
       "    <tr style=\"text-align: right;\">\n",
       "      <th></th>\n",
       "      <th>Pregnancies</th>\n",
       "      <th>Glucose</th>\n",
       "      <th>BloodPressure</th>\n",
       "      <th>SkinThickness</th>\n",
       "      <th>Insulin</th>\n",
       "      <th>BMI</th>\n",
       "      <th>DiabetesPedigreeFunction</th>\n",
       "      <th>Age</th>\n",
       "      <th>Outcome</th>\n",
       "    </tr>\n",
       "  </thead>\n",
       "  <tbody>\n",
       "    <tr>\n",
       "      <th>0</th>\n",
       "      <td>0.746728</td>\n",
       "      <td>0.812173</td>\n",
       "      <td>0.518979</td>\n",
       "      <td>0.804974</td>\n",
       "      <td>0.255890</td>\n",
       "      <td>0.593586</td>\n",
       "      <td>0.752618</td>\n",
       "      <td>0.889398</td>\n",
       "      <td>1.0</td>\n",
       "    </tr>\n",
       "    <tr>\n",
       "      <th>1</th>\n",
       "      <td>0.230366</td>\n",
       "      <td>0.091623</td>\n",
       "      <td>0.290576</td>\n",
       "      <td>0.645942</td>\n",
       "      <td>0.255890</td>\n",
       "      <td>0.214005</td>\n",
       "      <td>0.476440</td>\n",
       "      <td>0.556937</td>\n",
       "      <td>0.0</td>\n",
       "    </tr>\n",
       "    <tr>\n",
       "      <th>2</th>\n",
       "      <td>0.863220</td>\n",
       "      <td>0.956806</td>\n",
       "      <td>0.234293</td>\n",
       "      <td>0.358639</td>\n",
       "      <td>0.255890</td>\n",
       "      <td>0.077880</td>\n",
       "      <td>0.784031</td>\n",
       "      <td>0.582461</td>\n",
       "      <td>1.0</td>\n",
       "    </tr>\n",
       "    <tr>\n",
       "      <th>3</th>\n",
       "      <td>0.230366</td>\n",
       "      <td>0.125654</td>\n",
       "      <td>0.290576</td>\n",
       "      <td>0.358639</td>\n",
       "      <td>0.662958</td>\n",
       "      <td>0.285340</td>\n",
       "      <td>0.106675</td>\n",
       "      <td>0.000000</td>\n",
       "      <td>0.0</td>\n",
       "    </tr>\n",
       "    <tr>\n",
       "      <th>4</th>\n",
       "      <td>0.000000</td>\n",
       "      <td>0.723168</td>\n",
       "      <td>0.005236</td>\n",
       "      <td>0.804974</td>\n",
       "      <td>0.834424</td>\n",
       "      <td>0.929319</td>\n",
       "      <td>0.998691</td>\n",
       "      <td>0.604712</td>\n",
       "      <td>1.0</td>\n",
       "    </tr>\n",
       "  </tbody>\n",
       "</table>\n",
       "</div>"
      ],
      "text/plain": [
       "   Pregnancies   Glucose  BloodPressure  SkinThickness   Insulin       BMI  \\\n",
       "0     0.746728  0.812173       0.518979       0.804974  0.255890  0.593586   \n",
       "1     0.230366  0.091623       0.290576       0.645942  0.255890  0.214005   \n",
       "2     0.863220  0.956806       0.234293       0.358639  0.255890  0.077880   \n",
       "3     0.230366  0.125654       0.290576       0.358639  0.662958  0.285340   \n",
       "4     0.000000  0.723168       0.005236       0.804974  0.834424  0.929319   \n",
       "\n",
       "   DiabetesPedigreeFunction       Age  Outcome  \n",
       "0                  0.752618  0.889398      1.0  \n",
       "1                  0.476440  0.556937      0.0  \n",
       "2                  0.784031  0.582461      1.0  \n",
       "3                  0.106675  0.000000      0.0  \n",
       "4                  0.998691  0.604712      1.0  "
      ]
     },
     "execution_count": 27,
     "metadata": {},
     "output_type": "execute_result"
    }
   ],
   "source": [
    "transformedDF.head()"
   ]
  },
  {
   "cell_type": "markdown",
   "id": "701c1bcb",
   "metadata": {
    "papermill": {
     "duration": 0.058963,
     "end_time": "2021-11-30T05:15:22.031093",
     "exception": false,
     "start_time": "2021-11-30T05:15:21.972130",
     "status": "completed"
    },
    "tags": []
   },
   "source": [
    "# <font size=\"5\">Data Splitting</font>\n"
   ]
  },
  {
   "cell_type": "code",
   "execution_count": 28,
   "id": "a95fe599",
   "metadata": {
    "execution": {
     "iopub.execute_input": "2021-11-30T05:15:22.150954Z",
     "iopub.status.busy": "2021-11-30T05:15:22.150235Z",
     "iopub.status.idle": "2021-11-30T05:15:22.157883Z",
     "shell.execute_reply": "2021-11-30T05:15:22.158339Z",
     "shell.execute_reply.started": "2021-11-30T05:02:10.830551Z"
    },
    "papermill": {
     "duration": 0.069044,
     "end_time": "2021-11-30T05:15:22.158519",
     "exception": false,
     "start_time": "2021-11-30T05:15:22.089475",
     "status": "completed"
    },
    "tags": []
   },
   "outputs": [],
   "source": [
    "## Separate train dataset and test dataset\n",
    "features = df.drop([\"Outcome\"], axis=1)\n",
    "labels = df[\"Outcome\"]\n",
    "x_train, x_test, y_train, y_test = train_test_split(features, labels, test_size=0.30, random_state=7)"
   ]
  },
  {
   "cell_type": "markdown",
   "id": "942b8e48",
   "metadata": {
    "papermill": {
     "duration": 0.056652,
     "end_time": "2021-11-30T05:15:22.273929",
     "exception": false,
     "start_time": "2021-11-30T05:15:22.217277",
     "status": "completed"
    },
    "tags": []
   },
   "source": [
    "# <font size=\"5\">Cross Validate Models</font>\n"
   ]
  },
  {
   "cell_type": "code",
   "execution_count": 29,
   "id": "3b5c5b72",
   "metadata": {
    "execution": {
     "iopub.execute_input": "2021-11-30T05:15:22.391828Z",
     "iopub.status.busy": "2021-11-30T05:15:22.391120Z",
     "iopub.status.idle": "2021-11-30T05:15:22.398159Z",
     "shell.execute_reply": "2021-11-30T05:15:22.398685Z",
     "shell.execute_reply.started": "2021-11-30T05:02:10.839311Z"
    },
    "papermill": {
     "duration": 0.067673,
     "end_time": "2021-11-30T05:15:22.398876",
     "exception": false,
     "start_time": "2021-11-30T05:15:22.331203",
     "status": "completed"
    },
    "tags": []
   },
   "outputs": [],
   "source": [
    "def evaluate_model(models):\n",
    "    \"\"\"\n",
    "    Takes a list of models and returns chart of cross validation scores using mean accuracy\n",
    "    \"\"\"\n",
    "    \n",
    "    # Cross validate model with Kfold stratified cross val\n",
    "    kfold = StratifiedKFold(n_splits = 10)\n",
    "    \n",
    "    result = []\n",
    "    for model in models :\n",
    "        result.append(cross_val_score(estimator = model, X = x_train, y = y_train, scoring = \"accuracy\", cv = kfold, n_jobs=4))\n",
    "\n",
    "    cv_means = []\n",
    "    cv_std = []\n",
    "    for cv_result in result:\n",
    "        cv_means.append(cv_result.mean())\n",
    "        cv_std.append(cv_result.std())\n",
    "\n",
    "    result_df = pd.DataFrame({\n",
    "        \"CrossValMeans\":cv_means,\n",
    "        \"CrossValerrors\": cv_std,\n",
    "        \"Models\":[\n",
    "            \"LogisticRegression\",\n",
    "            \"DecisionTreeClassifier\",\n",
    "            \"AdaBoostClassifier\",\n",
    "            \"SVC\",\n",
    "            \"RandomForestClassifier\",\n",
    "            \"GradientBoostingClassifier\",\n",
    "            \"KNeighborsClassifier\"\n",
    "        ]\n",
    "    })\n",
    "\n",
    "    # Generate chart\n",
    "    bar = sns.barplot(x = \"CrossValMeans\", y = \"Models\", data = result_df, orient = \"h\")\n",
    "    bar.set_xlabel(\"Mean Accuracy\")\n",
    "    bar.set_title(\"Cross validation scores\")\n",
    "    return result_df"
   ]
  },
  {
   "cell_type": "code",
   "execution_count": 30,
   "id": "c6b21de8",
   "metadata": {
    "execution": {
     "iopub.execute_input": "2021-11-30T05:15:22.521243Z",
     "iopub.status.busy": "2021-11-30T05:15:22.520583Z",
     "iopub.status.idle": "2021-11-30T05:15:27.120784Z",
     "shell.execute_reply": "2021-11-30T05:15:27.121236Z",
     "shell.execute_reply.started": "2021-11-30T05:02:10.852153Z"
    },
    "papermill": {
     "duration": 4.664382,
     "end_time": "2021-11-30T05:15:27.121426",
     "exception": false,
     "start_time": "2021-11-30T05:15:22.457044",
     "status": "completed"
    },
    "tags": []
   },
   "outputs": [
    {
     "data": {
      "text/html": [
       "<div>\n",
       "<style scoped>\n",
       "    .dataframe tbody tr th:only-of-type {\n",
       "        vertical-align: middle;\n",
       "    }\n",
       "\n",
       "    .dataframe tbody tr th {\n",
       "        vertical-align: top;\n",
       "    }\n",
       "\n",
       "    .dataframe thead th {\n",
       "        text-align: right;\n",
       "    }\n",
       "</style>\n",
       "<table border=\"1\" class=\"dataframe\">\n",
       "  <thead>\n",
       "    <tr style=\"text-align: right;\">\n",
       "      <th></th>\n",
       "      <th>CrossValMeans</th>\n",
       "      <th>CrossValerrors</th>\n",
       "      <th>Models</th>\n",
       "    </tr>\n",
       "  </thead>\n",
       "  <tbody>\n",
       "    <tr>\n",
       "      <th>0</th>\n",
       "      <td>0.747869</td>\n",
       "      <td>0.069754</td>\n",
       "      <td>LogisticRegression</td>\n",
       "    </tr>\n",
       "    <tr>\n",
       "      <th>1</th>\n",
       "      <td>0.710622</td>\n",
       "      <td>0.083627</td>\n",
       "      <td>DecisionTreeClassifier</td>\n",
       "    </tr>\n",
       "    <tr>\n",
       "      <th>2</th>\n",
       "      <td>0.712544</td>\n",
       "      <td>0.076208</td>\n",
       "      <td>AdaBoostClassifier</td>\n",
       "    </tr>\n",
       "    <tr>\n",
       "      <th>3</th>\n",
       "      <td>0.760901</td>\n",
       "      <td>0.050156</td>\n",
       "      <td>SVC</td>\n",
       "    </tr>\n",
       "    <tr>\n",
       "      <th>4</th>\n",
       "      <td>0.762893</td>\n",
       "      <td>0.061561</td>\n",
       "      <td>RandomForestClassifier</td>\n",
       "    </tr>\n",
       "    <tr>\n",
       "      <th>5</th>\n",
       "      <td>0.751747</td>\n",
       "      <td>0.098608</td>\n",
       "      <td>GradientBoostingClassifier</td>\n",
       "    </tr>\n",
       "    <tr>\n",
       "      <th>6</th>\n",
       "      <td>0.720021</td>\n",
       "      <td>0.090282</td>\n",
       "      <td>KNeighborsClassifier</td>\n",
       "    </tr>\n",
       "  </tbody>\n",
       "</table>\n",
       "</div>"
      ],
      "text/plain": [
       "   CrossValMeans  CrossValerrors                      Models\n",
       "0       0.747869        0.069754          LogisticRegression\n",
       "1       0.710622        0.083627      DecisionTreeClassifier\n",
       "2       0.712544        0.076208          AdaBoostClassifier\n",
       "3       0.760901        0.050156                         SVC\n",
       "4       0.762893        0.061561      RandomForestClassifier\n",
       "5       0.751747        0.098608  GradientBoostingClassifier\n",
       "6       0.720021        0.090282        KNeighborsClassifier"
      ]
     },
     "execution_count": 30,
     "metadata": {},
     "output_type": "execute_result"
    },
    {
     "data": {
      "image/png": "[encoded data removed]",
      "text/plain": [
       "<Figure size 432x288 with 1 Axes>"
      ]
     },
     "metadata": {},
     "output_type": "display_data"
    }
   ],
   "source": [
    "# Modeling step Test differents algorithms \n",
    "random_state = 30\n",
    "models = [\n",
    "    LogisticRegression(random_state = random_state, solver='liblinear'),\n",
    "    DecisionTreeClassifier(random_state = random_state),\n",
    "    AdaBoostClassifier(DecisionTreeClassifier(random_state = random_state), random_state = random_state, learning_rate = 0.2),\n",
    "    SVC(random_state = random_state),\n",
    "    RandomForestClassifier(random_state = random_state),\n",
    "    GradientBoostingClassifier(random_state = random_state),\n",
    "    KNeighborsClassifier(),\n",
    "]\n",
    "evaluate_model(models)"
   ]
  },
  {
   "cell_type": "markdown",
   "id": "5dad852a",
   "metadata": {
    "papermill": {
     "duration": 0.057928,
     "end_time": "2021-11-30T05:15:27.238485",
     "exception": false,
     "start_time": "2021-11-30T05:15:27.180557",
     "status": "completed"
    },
    "tags": []
   },
   "source": [
    "As per above observation, i found that SVC, RandomForestClassifier, and LogisticRegression model has more accuracy. Next, i will do hyper parameter tuning on three models"
   ]
  },
  {
   "cell_type": "markdown",
   "id": "9ec3a25e",
   "metadata": {
    "papermill": {
     "duration": 0.058091,
     "end_time": "2021-11-30T05:15:27.355081",
     "exception": false,
     "start_time": "2021-11-30T05:15:27.296990",
     "status": "completed"
    },
    "tags": []
   },
   "source": [
    "# Hyperparameter Tuning"
   ]
  },
  {
   "cell_type": "markdown",
   "id": "ae7b1123",
   "metadata": {
    "papermill": {
     "duration": 0.058103,
     "end_time": "2021-11-30T05:15:27.472393",
     "exception": false,
     "start_time": "2021-11-30T05:15:27.414290",
     "status": "completed"
    },
    "tags": []
   },
   "source": [
    "Hyperparameter tuning is choosing a set of optimal hyperparameters for a learning algorithm. A hyperparameter is a model argument whose value is set before the learning process begins. The key to machine learning algorithms is hyperparameter tuning.\n",
    "\n",
    "I have done tuning process for SVC, RandomForestClassifier, and LogisticRegression models one by one"
   ]
  },
  {
   "cell_type": "code",
   "execution_count": 31,
   "id": "287ca935",
   "metadata": {
    "execution": {
     "iopub.execute_input": "2021-11-30T05:15:27.598302Z",
     "iopub.status.busy": "2021-11-30T05:15:27.597247Z",
     "iopub.status.idle": "2021-11-30T05:15:27.599579Z",
     "shell.execute_reply": "2021-11-30T05:15:27.600153Z",
     "shell.execute_reply.started": "2021-11-30T05:02:15.410933Z"
    },
    "papermill": {
     "duration": 0.069433,
     "end_time": "2021-11-30T05:15:27.600346",
     "exception": false,
     "start_time": "2021-11-30T05:15:27.530913",
     "status": "completed"
    },
    "tags": []
   },
   "outputs": [],
   "source": [
    "# Import libraries\n",
    "from sklearn.model_selection import GridSearchCV\n",
    "from sklearn.metrics import classification_report"
   ]
  },
  {
   "cell_type": "code",
   "execution_count": 32,
   "id": "9b4c6041",
   "metadata": {
    "execution": {
     "iopub.execute_input": "2021-11-30T05:15:27.725190Z",
     "iopub.status.busy": "2021-11-30T05:15:27.724170Z",
     "iopub.status.idle": "2021-11-30T05:15:27.731177Z",
     "shell.execute_reply": "2021-11-30T05:15:27.731717Z",
     "shell.execute_reply.started": "2021-11-30T05:02:15.418284Z"
    },
    "papermill": {
     "duration": 0.071268,
     "end_time": "2021-11-30T05:15:27.731903",
     "exception": false,
     "start_time": "2021-11-30T05:15:27.660635",
     "status": "completed"
    },
    "tags": []
   },
   "outputs": [],
   "source": [
    "def analyze_grid_result(grid_result):\n",
    "    '''\n",
    "    Analysis of GridCV result and predicting with test dataset\n",
    "    Show classification report at last\n",
    "    '''\n",
    "\n",
    "    # Best parameters and accuracy\n",
    "    print(\"Tuned hyperparameters: (best parameters) \", grid_result.best_params_)\n",
    "    print(\"Accuracy :\", grid_result.best_score_)\n",
    "    \n",
    "    means = grid_result.cv_results_[\"mean_test_score\"]\n",
    "    stds = grid_result.cv_results_[\"std_test_score\"]\n",
    "    for mean, std, params in zip(means, stds, grid_result.cv_results_[\"params\"]):\n",
    "        print(\"%0.3f (+/-%0.03f) for %r\" % (mean, std * 2, params))\n",
    "    print()\n",
    "\n",
    "    print(\"Detailed classification report:\")\n",
    "    print()\n",
    "    y_true, y_pred = y_test, grid_result.predict(x_test)\n",
    "    print(classification_report(y_true, y_pred))\n",
    "    print()"
   ]
  },
  {
   "cell_type": "markdown",
   "id": "d7768285",
   "metadata": {
    "papermill": {
     "duration": 0.060816,
     "end_time": "2021-11-30T05:15:27.853638",
     "exception": false,
     "start_time": "2021-11-30T05:15:27.792822",
     "status": "completed"
    },
    "tags": []
   },
   "source": [
    "First of all i have imported GridSearchCV and classification_report from sklearn library. Then, i have defined `analyze_grid_result` method which will show prediction result. I called this method for each Model used in SearchCV"
   ]
  },
  {
   "cell_type": "markdown",
   "id": "9ecf50ef",
   "metadata": {
    "papermill": {
     "duration": 0.058301,
     "end_time": "2021-11-30T05:15:27.972238",
     "exception": false,
     "start_time": "2021-11-30T05:15:27.913937",
     "status": "completed"
    },
    "tags": []
   },
   "source": [
    "# <font size=\"5\">LogisticRegression</font>"
   ]
  },
  {
   "cell_type": "code",
   "execution_count": 33,
   "id": "0793b32f",
   "metadata": {
    "execution": {
     "iopub.execute_input": "2021-11-30T05:15:28.093380Z",
     "iopub.status.busy": "2021-11-30T05:15:28.092440Z",
     "iopub.status.idle": "2021-11-30T05:15:39.705743Z",
     "shell.execute_reply": "2021-11-30T05:15:39.705161Z",
     "shell.execute_reply.started": "2021-11-30T05:02:15.433503Z"
    },
    "papermill": {
     "duration": 11.674362,
     "end_time": "2021-11-30T05:15:39.705888",
     "exception": false,
     "start_time": "2021-11-30T05:15:28.031526",
     "status": "completed"
    },
    "tags": []
   },
   "outputs": [
    {
     "name": "stdout",
     "output_type": "stream",
     "text": [
      "Tuned hyperparameters: (best parameters)  {'C': 10, 'penalty': 'l2', 'solver': 'liblinear'}\n",
      "Accuracy : 0.7883636363636363\n",
      "0.788 (+/-0.260) for {'C': 100, 'penalty': 'l2', 'solver': 'newton-cg'}\n",
      "0.788 (+/-0.260) for {'C': 100, 'penalty': 'l2', 'solver': 'liblinear'}\n",
      "0.788 (+/-0.260) for {'C': 10, 'penalty': 'l2', 'solver': 'newton-cg'}\n",
      "0.788 (+/-0.250) for {'C': 10, 'penalty': 'l2', 'solver': 'liblinear'}\n",
      "0.785 (+/-0.253) for {'C': 1.0, 'penalty': 'l2', 'solver': 'newton-cg'}\n",
      "0.745 (+/-0.266) for {'C': 1.0, 'penalty': 'l2', 'solver': 'liblinear'}\n",
      "0.773 (+/-0.238) for {'C': 0.1, 'penalty': 'l2', 'solver': 'newton-cg'}\n",
      "0.705 (+/-0.281) for {'C': 0.1, 'penalty': 'l2', 'solver': 'liblinear'}\n",
      "0.773 (+/-0.232) for {'C': 0.01, 'penalty': 'l2', 'solver': 'newton-cg'}\n",
      "0.696 (+/-0.264) for {'C': 0.01, 'penalty': 'l2', 'solver': 'liblinear'}\n",
      "\n",
      "Detailed classification report:\n",
      "\n",
      "              precision    recall  f1-score   support\n",
      "\n",
      "           0       0.78      0.84      0.81       147\n",
      "           1       0.68      0.58      0.62        83\n",
      "\n",
      "    accuracy                           0.75       230\n",
      "   macro avg       0.73      0.71      0.72       230\n",
      "weighted avg       0.74      0.75      0.74       230\n",
      "\n",
      "\n"
     ]
    }
   ],
   "source": [
    "# Define models and parameters for LogisticRegression\n",
    "model = LogisticRegression(solver='liblinear')\n",
    "solvers = ['newton-cg', 'liblinear']\n",
    "penalty = ['l2']\n",
    "c_values = [100, 10, 1.0, 0.1, 0.01]\n",
    "\n",
    "# Define grid search\n",
    "grid = dict(solver = solvers, penalty = penalty, C = c_values)\n",
    "cv = StratifiedKFold(n_splits = 50, random_state = 1, shuffle = True)\n",
    "grid_search = GridSearchCV(estimator = model, param_grid = grid, cv = cv, scoring = 'accuracy', error_score = 0)\n",
    "logi_result = grid_search.fit(x_train, y_train)\n",
    "\n",
    "# Logistic Regression Hyperparameter Result\n",
    "analyze_grid_result(logi_result)"
   ]
  },
  {
   "cell_type": "markdown",
   "id": "e28391b8",
   "metadata": {
    "papermill": {
     "duration": 0.059451,
     "end_time": "2021-11-30T05:15:39.824491",
     "exception": false,
     "start_time": "2021-11-30T05:15:39.765040",
     "status": "completed"
    },
    "tags": []
   },
   "source": [
    "As per my obversation, in LogisticRegression it returned best score 0.78 with `{'C': 10, 'penalty': 'l2', 'solver': 'liblinear'}` parameters. Next i will perform tuning for other models."
   ]
  },
  {
   "cell_type": "markdown",
   "id": "88511124",
   "metadata": {
    "papermill": {
     "duration": 0.059267,
     "end_time": "2021-11-30T05:15:39.942319",
     "exception": false,
     "start_time": "2021-11-30T05:15:39.883052",
     "status": "completed"
    },
    "tags": []
   },
   "source": [
    "# <font size=\"5\">SVC</font>"
   ]
  },
  {
   "cell_type": "code",
   "execution_count": 34,
   "id": "241dd7ba",
   "metadata": {
    "execution": {
     "iopub.execute_input": "2021-11-30T05:15:40.062001Z",
     "iopub.status.busy": "2021-11-30T05:15:40.061399Z",
     "iopub.status.idle": "2021-11-30T05:19:25.734452Z",
     "shell.execute_reply": "2021-11-30T05:19:25.735253Z",
     "shell.execute_reply.started": "2021-11-30T05:02:29.425933Z"
    },
    "papermill": {
     "duration": 225.734888,
     "end_time": "2021-11-30T05:19:25.735502",
     "exception": false,
     "start_time": "2021-11-30T05:15:40.000614",
     "status": "completed"
    },
    "tags": []
   },
   "outputs": [
    {
     "name": "stdout",
     "output_type": "stream",
     "text": [
      "Tuned hyperparameters: (best parameters)  {'C': 10, 'kernel': 'linear'}\n",
      "Accuracy : 0.7775797976410084\n",
      "0.712 (+/-0.061) for {'C': 1, 'gamma': 0.001, 'kernel': 'rbf'}\n",
      "0.735 (+/-0.053) for {'C': 1, 'gamma': 0.0001, 'kernel': 'rbf'}\n",
      "0.677 (+/-0.035) for {'C': 10, 'gamma': 0.001, 'kernel': 'rbf'}\n",
      "0.716 (+/-0.016) for {'C': 10, 'gamma': 0.0001, 'kernel': 'rbf'}\n",
      "0.658 (+/-0.020) for {'C': 100, 'gamma': 0.001, 'kernel': 'rbf'}\n",
      "0.707 (+/-0.042) for {'C': 100, 'gamma': 0.0001, 'kernel': 'rbf'}\n",
      "0.656 (+/-0.001) for {'C': 1000, 'gamma': 0.001, 'kernel': 'rbf'}\n",
      "0.667 (+/-0.046) for {'C': 1000, 'gamma': 0.0001, 'kernel': 'rbf'}\n",
      "0.770 (+/-0.025) for {'C': 1, 'kernel': 'linear'}\n",
      "0.778 (+/-0.010) for {'C': 10, 'kernel': 'linear'}\n",
      "0.778 (+/-0.005) for {'C': 100, 'kernel': 'linear'}\n",
      "0.761 (+/-0.029) for {'C': 1000, 'kernel': 'linear'}\n",
      "\n",
      "Detailed classification report:\n",
      "\n",
      "              precision    recall  f1-score   support\n",
      "\n",
      "           0       0.78      0.84      0.81       147\n",
      "           1       0.67      0.57      0.61        83\n",
      "\n",
      "    accuracy                           0.74       230\n",
      "   macro avg       0.72      0.70      0.71       230\n",
      "weighted avg       0.74      0.74      0.74       230\n",
      "\n",
      "\n"
     ]
    }
   ],
   "source": [
    "# Define models and parameters for LogisticRegression\n",
    "model = SVC()\n",
    "\n",
    "# Define grid search\n",
    "tuned_parameters = [\n",
    "    {\"kernel\": [\"rbf\"], \"gamma\": [1e-3, 1e-4], \"C\": [1, 10, 100, 1000]},\n",
    "    {\"kernel\": [\"linear\"], \"C\": [1, 10, 100, 1000]},\n",
    "]\n",
    "cv = StratifiedKFold(n_splits = 2, random_state = 1, shuffle = True)\n",
    "grid_search = GridSearchCV(estimator = model, param_grid = tuned_parameters, cv = cv, scoring = 'accuracy', error_score = 0)\n",
    "scv_result = grid_search.fit(x_train, y_train)\n",
    "\n",
    "# SVC Hyperparameter Result\n",
    "analyze_grid_result(scv_result)"
   ]
  },
  {
   "cell_type": "markdown",
   "id": "5bf8a92d",
   "metadata": {
    "papermill": {
     "duration": 0.061489,
     "end_time": "2021-11-30T05:19:25.857099",
     "exception": false,
     "start_time": "2021-11-30T05:19:25.795610",
     "status": "completed"
    },
    "tags": []
   },
   "source": [
    "SVC Model gave max 0.77 accuracy which is bit less than LogisticRegression. I will not use this model anymore."
   ]
  },
  {
   "cell_type": "markdown",
   "id": "aa881c6c",
   "metadata": {
    "papermill": {
     "duration": 0.058914,
     "end_time": "2021-11-30T05:19:25.974966",
     "exception": false,
     "start_time": "2021-11-30T05:19:25.916052",
     "status": "completed"
    },
    "tags": []
   },
   "source": [
    "# <font size=\"5\">RandomForestClassifier</font>"
   ]
  },
  {
   "cell_type": "code",
   "execution_count": 35,
   "id": "af8b2694",
   "metadata": {
    "execution": {
     "iopub.execute_input": "2021-11-30T05:19:26.099738Z",
     "iopub.status.busy": "2021-11-30T05:19:26.098786Z",
     "iopub.status.idle": "2021-11-30T05:20:34.109021Z",
     "shell.execute_reply": "2021-11-30T05:20:34.109631Z",
     "shell.execute_reply.started": "2021-11-30T05:06:13.755112Z"
    },
    "papermill": {
     "duration": 68.073832,
     "end_time": "2021-11-30T05:20:34.109826",
     "exception": false,
     "start_time": "2021-11-30T05:19:26.035994",
     "status": "completed"
    },
    "tags": []
   },
   "outputs": [
    {
     "name": "stdout",
     "output_type": "stream",
     "text": [
      "Tuned hyperparameters: (best parameters)  {'criterion': 'entropy', 'max_depth': 5, 'max_features': 'log2', 'n_estimators': 200}\n",
      "Accuracy : 0.7663648051875454\n",
      "0.759 (+/-0.025) for {'criterion': 'gini', 'max_depth': 4, 'max_features': 'auto', 'n_estimators': 200}\n",
      "0.761 (+/-0.029) for {'criterion': 'gini', 'max_depth': 4, 'max_features': 'auto', 'n_estimators': 500}\n",
      "0.759 (+/-0.025) for {'criterion': 'gini', 'max_depth': 4, 'max_features': 'sqrt', 'n_estimators': 200}\n",
      "0.761 (+/-0.029) for {'criterion': 'gini', 'max_depth': 4, 'max_features': 'sqrt', 'n_estimators': 500}\n",
      "0.751 (+/-0.018) for {'criterion': 'gini', 'max_depth': 4, 'max_features': 'log2', 'n_estimators': 200}\n",
      "0.757 (+/-0.022) for {'criterion': 'gini', 'max_depth': 4, 'max_features': 'log2', 'n_estimators': 500}\n",
      "0.751 (+/-0.025) for {'criterion': 'gini', 'max_depth': 5, 'max_features': 'auto', 'n_estimators': 200}\n",
      "0.759 (+/-0.025) for {'criterion': 'gini', 'max_depth': 5, 'max_features': 'auto', 'n_estimators': 500}\n",
      "0.751 (+/-0.025) for {'criterion': 'gini', 'max_depth': 5, 'max_features': 'sqrt', 'n_estimators': 200}\n",
      "0.759 (+/-0.025) for {'criterion': 'gini', 'max_depth': 5, 'max_features': 'sqrt', 'n_estimators': 500}\n",
      "0.751 (+/-0.025) for {'criterion': 'gini', 'max_depth': 5, 'max_features': 'log2', 'n_estimators': 200}\n",
      "0.753 (+/-0.014) for {'criterion': 'gini', 'max_depth': 5, 'max_features': 'log2', 'n_estimators': 500}\n",
      "0.763 (+/-0.033) for {'criterion': 'gini', 'max_depth': 6, 'max_features': 'auto', 'n_estimators': 200}\n",
      "0.757 (+/-0.029) for {'criterion': 'gini', 'max_depth': 6, 'max_features': 'auto', 'n_estimators': 500}\n",
      "0.763 (+/-0.033) for {'criterion': 'gini', 'max_depth': 6, 'max_features': 'sqrt', 'n_estimators': 200}\n",
      "0.757 (+/-0.029) for {'criterion': 'gini', 'max_depth': 6, 'max_features': 'sqrt', 'n_estimators': 500}\n",
      "0.759 (+/-0.025) for {'criterion': 'gini', 'max_depth': 6, 'max_features': 'log2', 'n_estimators': 200}\n",
      "0.753 (+/-0.029) for {'criterion': 'gini', 'max_depth': 6, 'max_features': 'log2', 'n_estimators': 500}\n",
      "0.755 (+/-0.033) for {'criterion': 'gini', 'max_depth': 7, 'max_features': 'auto', 'n_estimators': 200}\n",
      "0.751 (+/-0.025) for {'criterion': 'gini', 'max_depth': 7, 'max_features': 'auto', 'n_estimators': 500}\n",
      "0.755 (+/-0.033) for {'criterion': 'gini', 'max_depth': 7, 'max_features': 'sqrt', 'n_estimators': 200}\n",
      "0.751 (+/-0.025) for {'criterion': 'gini', 'max_depth': 7, 'max_features': 'sqrt', 'n_estimators': 500}\n",
      "0.748 (+/-0.018) for {'criterion': 'gini', 'max_depth': 7, 'max_features': 'log2', 'n_estimators': 200}\n",
      "0.746 (+/-0.007) for {'criterion': 'gini', 'max_depth': 7, 'max_features': 'log2', 'n_estimators': 500}\n",
      "0.751 (+/-0.033) for {'criterion': 'gini', 'max_depth': 8, 'max_features': 'auto', 'n_estimators': 200}\n",
      "0.751 (+/-0.040) for {'criterion': 'gini', 'max_depth': 8, 'max_features': 'auto', 'n_estimators': 500}\n",
      "0.751 (+/-0.033) for {'criterion': 'gini', 'max_depth': 8, 'max_features': 'sqrt', 'n_estimators': 200}\n",
      "0.751 (+/-0.040) for {'criterion': 'gini', 'max_depth': 8, 'max_features': 'sqrt', 'n_estimators': 500}\n",
      "0.750 (+/-0.021) for {'criterion': 'gini', 'max_depth': 8, 'max_features': 'log2', 'n_estimators': 200}\n",
      "0.757 (+/-0.044) for {'criterion': 'gini', 'max_depth': 8, 'max_features': 'log2', 'n_estimators': 500}\n",
      "0.763 (+/-0.040) for {'criterion': 'entropy', 'max_depth': 4, 'max_features': 'auto', 'n_estimators': 200}\n",
      "0.759 (+/-0.040) for {'criterion': 'entropy', 'max_depth': 4, 'max_features': 'auto', 'n_estimators': 500}\n",
      "0.763 (+/-0.040) for {'criterion': 'entropy', 'max_depth': 4, 'max_features': 'sqrt', 'n_estimators': 200}\n",
      "0.759 (+/-0.040) for {'criterion': 'entropy', 'max_depth': 4, 'max_features': 'sqrt', 'n_estimators': 500}\n",
      "0.757 (+/-0.029) for {'criterion': 'entropy', 'max_depth': 4, 'max_features': 'log2', 'n_estimators': 200}\n",
      "0.763 (+/-0.010) for {'criterion': 'entropy', 'max_depth': 4, 'max_features': 'log2', 'n_estimators': 500}\n",
      "0.757 (+/-0.022) for {'criterion': 'entropy', 'max_depth': 5, 'max_features': 'auto', 'n_estimators': 200}\n",
      "0.757 (+/-0.036) for {'criterion': 'entropy', 'max_depth': 5, 'max_features': 'auto', 'n_estimators': 500}\n",
      "0.757 (+/-0.022) for {'criterion': 'entropy', 'max_depth': 5, 'max_features': 'sqrt', 'n_estimators': 200}\n",
      "0.757 (+/-0.036) for {'criterion': 'entropy', 'max_depth': 5, 'max_features': 'sqrt', 'n_estimators': 500}\n",
      "0.766 (+/-0.010) for {'criterion': 'entropy', 'max_depth': 5, 'max_features': 'log2', 'n_estimators': 200}\n",
      "0.764 (+/-0.014) for {'criterion': 'entropy', 'max_depth': 5, 'max_features': 'log2', 'n_estimators': 500}\n",
      "0.765 (+/-0.022) for {'criterion': 'entropy', 'max_depth': 6, 'max_features': 'auto', 'n_estimators': 200}\n",
      "0.763 (+/-0.033) for {'criterion': 'entropy', 'max_depth': 6, 'max_features': 'auto', 'n_estimators': 500}\n",
      "0.765 (+/-0.022) for {'criterion': 'entropy', 'max_depth': 6, 'max_features': 'sqrt', 'n_estimators': 200}\n",
      "0.763 (+/-0.033) for {'criterion': 'entropy', 'max_depth': 6, 'max_features': 'sqrt', 'n_estimators': 500}\n",
      "0.764 (+/-0.007) for {'criterion': 'entropy', 'max_depth': 6, 'max_features': 'log2', 'n_estimators': 200}\n",
      "0.759 (+/-0.025) for {'criterion': 'entropy', 'max_depth': 6, 'max_features': 'log2', 'n_estimators': 500}\n",
      "0.761 (+/-0.014) for {'criterion': 'entropy', 'max_depth': 7, 'max_features': 'auto', 'n_estimators': 200}\n",
      "0.757 (+/-0.022) for {'criterion': 'entropy', 'max_depth': 7, 'max_features': 'auto', 'n_estimators': 500}\n",
      "0.761 (+/-0.014) for {'criterion': 'entropy', 'max_depth': 7, 'max_features': 'sqrt', 'n_estimators': 200}\n",
      "0.757 (+/-0.022) for {'criterion': 'entropy', 'max_depth': 7, 'max_features': 'sqrt', 'n_estimators': 500}\n",
      "0.757 (+/-0.029) for {'criterion': 'entropy', 'max_depth': 7, 'max_features': 'log2', 'n_estimators': 200}\n",
      "0.753 (+/-0.014) for {'criterion': 'entropy', 'max_depth': 7, 'max_features': 'log2', 'n_estimators': 500}\n",
      "0.755 (+/-0.010) for {'criterion': 'entropy', 'max_depth': 8, 'max_features': 'auto', 'n_estimators': 200}\n",
      "0.755 (+/-0.025) for {'criterion': 'entropy', 'max_depth': 8, 'max_features': 'auto', 'n_estimators': 500}\n",
      "0.755 (+/-0.010) for {'criterion': 'entropy', 'max_depth': 8, 'max_features': 'sqrt', 'n_estimators': 200}\n",
      "0.755 (+/-0.025) for {'criterion': 'entropy', 'max_depth': 8, 'max_features': 'sqrt', 'n_estimators': 500}\n",
      "0.748 (+/-0.040) for {'criterion': 'entropy', 'max_depth': 8, 'max_features': 'log2', 'n_estimators': 200}\n",
      "0.763 (+/-0.033) for {'criterion': 'entropy', 'max_depth': 8, 'max_features': 'log2', 'n_estimators': 500}\n",
      "\n",
      "Detailed classification report:\n",
      "\n",
      "              precision    recall  f1-score   support\n",
      "\n",
      "           0       0.78      0.83      0.80       147\n",
      "           1       0.66      0.58      0.62        83\n",
      "\n",
      "    accuracy                           0.74       230\n",
      "   macro avg       0.72      0.70      0.71       230\n",
      "weighted avg       0.73      0.74      0.74       230\n",
      "\n",
      "\n"
     ]
    }
   ],
   "source": [
    "# Define models and parameters for LogisticRegression\n",
    "model = RandomForestClassifier(random_state=42)\n",
    "\n",
    "\n",
    "# Define grid search\n",
    "tuned_parameters = { \n",
    "    'n_estimators': [200, 500],\n",
    "    'max_features': ['auto', 'sqrt', 'log2'],\n",
    "    'max_depth' : [4,5,6,7,8],\n",
    "    'criterion' :['gini', 'entropy']\n",
    "}\n",
    "cv = StratifiedKFold(n_splits = 2, random_state = 1, shuffle = True)\n",
    "grid_search = GridSearchCV(estimator = model, param_grid = tuned_parameters, cv = cv, scoring = 'accuracy', error_score = 0)\n",
    "grid_result = grid_search.fit(x_train, y_train)\n",
    "\n",
    "# SVC Hyperparameter Result\n",
    "analyze_grid_result(grid_result)"
   ]
  },
  {
   "cell_type": "markdown",
   "id": "4a03672a",
   "metadata": {
    "papermill": {
     "duration": 0.059811,
     "end_time": "2021-11-30T05:20:34.229290",
     "exception": false,
     "start_time": "2021-11-30T05:20:34.169479",
     "status": "completed"
    },
    "tags": []
   },
   "source": [
    "Randomforest model gave max 0.76% accuracy which is not best comparing to other model. So i decided to use LogisticRegression Model for prediction"
   ]
  },
  {
   "cell_type": "markdown",
   "id": "50513e72",
   "metadata": {
    "papermill": {
     "duration": 0.059783,
     "end_time": "2021-11-30T05:20:34.349126",
     "exception": false,
     "start_time": "2021-11-30T05:20:34.289343",
     "status": "completed"
    },
    "tags": []
   },
   "source": [
    "# Prediction"
   ]
  },
  {
   "cell_type": "markdown",
   "id": "46b27767",
   "metadata": {
    "papermill": {
     "duration": 0.059715,
     "end_time": "2021-11-30T05:20:34.469072",
     "exception": false,
     "start_time": "2021-11-30T05:20:34.409357",
     "status": "completed"
    },
    "tags": []
   },
   "source": [
    "Till now, i worked on EDA, Feature Engineering, Cross Validation of Models, and Hyperparameter Tuning and find the best working Model for my dataset. Next, I did prediction from my test dataset and storing the result in CSV"
   ]
  },
  {
   "cell_type": "code",
   "execution_count": 36,
   "id": "5497342d",
   "metadata": {
    "execution": {
     "iopub.execute_input": "2021-11-30T05:20:34.596787Z",
     "iopub.status.busy": "2021-11-30T05:20:34.595799Z",
     "iopub.status.idle": "2021-11-30T05:20:34.603870Z",
     "shell.execute_reply": "2021-11-30T05:20:34.603365Z",
     "shell.execute_reply.started": "2021-11-30T05:13:30.552668Z"
    },
    "papermill": {
     "duration": 0.074862,
     "end_time": "2021-11-30T05:20:34.604010",
     "exception": false,
     "start_time": "2021-11-30T05:20:34.529148",
     "status": "completed"
    },
    "tags": []
   },
   "outputs": [
    {
     "name": "stdout",
     "output_type": "stream",
     "text": [
      "              precision    recall  f1-score   support\n",
      "\n",
      "           0       0.78      0.84      0.81       147\n",
      "           1       0.68      0.58      0.62        83\n",
      "\n",
      "    accuracy                           0.75       230\n",
      "   macro avg       0.73      0.71      0.72       230\n",
      "weighted avg       0.74      0.75      0.74       230\n",
      "\n"
     ]
    }
   ],
   "source": [
    "y_pred = logi_result.predict(x_test)\n",
    "print(classification_report(y_test, y_pred))"
   ]
  },
  {
   "cell_type": "code",
   "execution_count": 37,
   "id": "53d68222",
   "metadata": {
    "execution": {
     "iopub.execute_input": "2021-11-30T05:20:34.739916Z",
     "iopub.status.busy": "2021-11-30T05:20:34.730089Z",
     "iopub.status.idle": "2021-11-30T05:20:34.749921Z",
     "shell.execute_reply": "2021-11-30T05:20:34.749450Z",
     "shell.execute_reply.started": "2021-11-30T05:13:41.749493Z"
    },
    "papermill": {
     "duration": 0.085889,
     "end_time": "2021-11-30T05:20:34.750084",
     "exception": false,
     "start_time": "2021-11-30T05:20:34.664195",
     "status": "completed"
    },
    "tags": []
   },
   "outputs": [
    {
     "name": "stderr",
     "output_type": "stream",
     "text": [
      "/opt/conda/lib/python3.7/site-packages/ipykernel_launcher.py:1: SettingWithCopyWarning: \n",
      "A value is trying to be set on a copy of a slice from a DataFrame.\n",
      "Try using .loc[row_indexer,col_indexer] = value instead\n",
      "\n",
      "See the caveats in the documentation: https://pandas.pydata.org/pandas-docs/stable/user_guide/indexing.html#returning-a-view-versus-a-copy\n",
      "  \"\"\"Entry point for launching an IPython kernel.\n"
     ]
    },
    {
     "data": {
      "text/html": [
       "<div>\n",
       "<style scoped>\n",
       "    .dataframe tbody tr th:only-of-type {\n",
       "        vertical-align: middle;\n",
       "    }\n",
       "\n",
       "    .dataframe tbody tr th {\n",
       "        vertical-align: top;\n",
       "    }\n",
       "\n",
       "    .dataframe thead th {\n",
       "        text-align: right;\n",
       "    }\n",
       "</style>\n",
       "<table border=\"1\" class=\"dataframe\">\n",
       "  <thead>\n",
       "    <tr style=\"text-align: right;\">\n",
       "      <th></th>\n",
       "      <th>Pregnancies</th>\n",
       "      <th>Glucose</th>\n",
       "      <th>BloodPressure</th>\n",
       "      <th>SkinThickness</th>\n",
       "      <th>Insulin</th>\n",
       "      <th>BMI</th>\n",
       "      <th>DiabetesPedigreeFunction</th>\n",
       "      <th>Age</th>\n",
       "      <th>pred</th>\n",
       "    </tr>\n",
       "  </thead>\n",
       "  <tbody>\n",
       "    <tr>\n",
       "      <th>236</th>\n",
       "      <td>7</td>\n",
       "      <td>181.0</td>\n",
       "      <td>84.0</td>\n",
       "      <td>21</td>\n",
       "      <td>192.0</td>\n",
       "      <td>35.9</td>\n",
       "      <td>0.586</td>\n",
       "      <td>51</td>\n",
       "      <td>1</td>\n",
       "    </tr>\n",
       "    <tr>\n",
       "      <th>715</th>\n",
       "      <td>7</td>\n",
       "      <td>187.0</td>\n",
       "      <td>50.0</td>\n",
       "      <td>33</td>\n",
       "      <td>392.0</td>\n",
       "      <td>33.9</td>\n",
       "      <td>0.826</td>\n",
       "      <td>34</td>\n",
       "      <td>1</td>\n",
       "    </tr>\n",
       "    <tr>\n",
       "      <th>766</th>\n",
       "      <td>1</td>\n",
       "      <td>126.0</td>\n",
       "      <td>60.0</td>\n",
       "      <td>23</td>\n",
       "      <td>30.5</td>\n",
       "      <td>30.1</td>\n",
       "      <td>0.349</td>\n",
       "      <td>47</td>\n",
       "      <td>0</td>\n",
       "    </tr>\n",
       "    <tr>\n",
       "      <th>499</th>\n",
       "      <td>6</td>\n",
       "      <td>154.0</td>\n",
       "      <td>74.0</td>\n",
       "      <td>32</td>\n",
       "      <td>193.0</td>\n",
       "      <td>29.3</td>\n",
       "      <td>0.839</td>\n",
       "      <td>39</td>\n",
       "      <td>1</td>\n",
       "    </tr>\n",
       "    <tr>\n",
       "      <th>61</th>\n",
       "      <td>8</td>\n",
       "      <td>133.0</td>\n",
       "      <td>72.0</td>\n",
       "      <td>23</td>\n",
       "      <td>30.5</td>\n",
       "      <td>32.9</td>\n",
       "      <td>0.270</td>\n",
       "      <td>39</td>\n",
       "      <td>1</td>\n",
       "    </tr>\n",
       "    <tr>\n",
       "      <th>...</th>\n",
       "      <td>...</td>\n",
       "      <td>...</td>\n",
       "      <td>...</td>\n",
       "      <td>...</td>\n",
       "      <td>...</td>\n",
       "      <td>...</td>\n",
       "      <td>...</td>\n",
       "      <td>...</td>\n",
       "      <td>...</td>\n",
       "    </tr>\n",
       "    <tr>\n",
       "      <th>189</th>\n",
       "      <td>5</td>\n",
       "      <td>139.0</td>\n",
       "      <td>80.0</td>\n",
       "      <td>35</td>\n",
       "      <td>160.0</td>\n",
       "      <td>31.6</td>\n",
       "      <td>0.361</td>\n",
       "      <td>25</td>\n",
       "      <td>0</td>\n",
       "    </tr>\n",
       "    <tr>\n",
       "      <th>351</th>\n",
       "      <td>4</td>\n",
       "      <td>137.0</td>\n",
       "      <td>84.0</td>\n",
       "      <td>23</td>\n",
       "      <td>30.5</td>\n",
       "      <td>31.2</td>\n",
       "      <td>0.252</td>\n",
       "      <td>30</td>\n",
       "      <td>0</td>\n",
       "    </tr>\n",
       "    <tr>\n",
       "      <th>120</th>\n",
       "      <td>0</td>\n",
       "      <td>162.0</td>\n",
       "      <td>76.0</td>\n",
       "      <td>56</td>\n",
       "      <td>100.0</td>\n",
       "      <td>53.2</td>\n",
       "      <td>0.759</td>\n",
       "      <td>25</td>\n",
       "      <td>1</td>\n",
       "    </tr>\n",
       "    <tr>\n",
       "      <th>108</th>\n",
       "      <td>3</td>\n",
       "      <td>83.0</td>\n",
       "      <td>58.0</td>\n",
       "      <td>31</td>\n",
       "      <td>18.0</td>\n",
       "      <td>34.3</td>\n",
       "      <td>0.336</td>\n",
       "      <td>25</td>\n",
       "      <td>0</td>\n",
       "    </tr>\n",
       "    <tr>\n",
       "      <th>637</th>\n",
       "      <td>2</td>\n",
       "      <td>94.0</td>\n",
       "      <td>76.0</td>\n",
       "      <td>18</td>\n",
       "      <td>66.0</td>\n",
       "      <td>31.6</td>\n",
       "      <td>0.649</td>\n",
       "      <td>23</td>\n",
       "      <td>0</td>\n",
       "    </tr>\n",
       "  </tbody>\n",
       "</table>\n",
       "<p>230 rows × 9 columns</p>\n",
       "</div>"
      ],
      "text/plain": [
       "     Pregnancies  Glucose  BloodPressure  SkinThickness  Insulin   BMI  \\\n",
       "236            7    181.0           84.0             21    192.0  35.9   \n",
       "715            7    187.0           50.0             33    392.0  33.9   \n",
       "766            1    126.0           60.0             23     30.5  30.1   \n",
       "499            6    154.0           74.0             32    193.0  29.3   \n",
       "61             8    133.0           72.0             23     30.5  32.9   \n",
       "..           ...      ...            ...            ...      ...   ...   \n",
       "189            5    139.0           80.0             35    160.0  31.6   \n",
       "351            4    137.0           84.0             23     30.5  31.2   \n",
       "120            0    162.0           76.0             56    100.0  53.2   \n",
       "108            3     83.0           58.0             31     18.0  34.3   \n",
       "637            2     94.0           76.0             18     66.0  31.6   \n",
       "\n",
       "     DiabetesPedigreeFunction  Age  pred  \n",
       "236                     0.586   51     1  \n",
       "715                     0.826   34     1  \n",
       "766                     0.349   47     0  \n",
       "499                     0.839   39     1  \n",
       "61                      0.270   39     1  \n",
       "..                        ...  ...   ...  \n",
       "189                     0.361   25     0  \n",
       "351                     0.252   30     0  \n",
       "120                     0.759   25     1  \n",
       "108                     0.336   25     0  \n",
       "637                     0.649   23     0  \n",
       "\n",
       "[230 rows x 9 columns]"
      ]
     },
     "execution_count": 37,
     "metadata": {},
     "output_type": "execute_result"
    }
   ],
   "source": [
    "x_test['pred'] = y_pred\n",
    "x_test"
   ]
  },
  {
   "cell_type": "markdown",
   "id": "71e86898",
   "metadata": {
    "papermill": {
     "duration": 0.060743,
     "end_time": "2021-11-30T05:20:34.871987",
     "exception": false,
     "start_time": "2021-11-30T05:20:34.811244",
     "status": "completed"
    },
    "tags": []
   },
   "source": [
    "Please upvote and share my notebook if you find it useful - It keeps me motivated :)"
   ]
  }
 ],
 "metadata": {
  "kernelspec": {
   "display_name": "Python 3",
   "language": "python",
   "name": "python3"
  },
  "language_info": {
   "codemirror_mode": {
    "name": "ipython",
    "version": 3
   },
   "file_extension": ".py",
   "mimetype": "text/x-python",
   "name": "python",
   "nbconvert_exporter": "python",
   "pygments_lexer": "ipython3",
   "version": "3.7.10"
  },
  "papermill": {
   "default_parameters": {},
   "duration": 332.351401,
   "end_time": "2021-11-30T05:20:35.744856",
   "environment_variables": {},
   "exception": null,
   "input_path": "__notebook__.ipynb",
   "output_path": "__notebook__.ipynb",
   "parameters": {},
   "start_time": "2021-11-30T05:15:03.393455",
   "version": "2.3.3"
  }
 },
 "nbformat": 4,
 "nbformat_minor": 5
}
